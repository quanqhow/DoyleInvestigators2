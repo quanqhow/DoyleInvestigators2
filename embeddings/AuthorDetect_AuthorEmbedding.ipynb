{
  "nbformat": 4,
  "nbformat_minor": 0,
  "metadata": {
    "colab": {
      "name": "AuthorDetect_AuthorEmbedding.ipynb",
      "provenance": [],
      "toc_visible": true,
      "include_colab_link": true
    },
    "kernelspec": {
      "name": "python3",
      "display_name": "Python 3"
    }
  },
  "cells": [
    {
      "cell_type": "markdown",
      "metadata": {
        "id": "view-in-github",
        "colab_type": "text"
      },
      "source": [
        "<a href=\"https://colab.research.google.com/github/edponce/DoyleInvestigators2/blob/main/embeddings/AuthorDetect_AuthorEmbedding.ipynb\" target=\"_parent\"><img src=\"https://colab.research.google.com/assets/colab-badge.svg\" alt=\"Open In Colab\"/></a>"
      ]
    },
    {
      "cell_type": "markdown",
      "metadata": {
        "id": "lbqRlwmTUKeT"
      },
      "source": [
        "# Install AuthorDetect from GitHub repository"
      ]
    },
    {
      "cell_type": "code",
      "metadata": {
        "id": "Uis9DLaqQT2J",
        "outputId": "45f9d6b7-6de0-4c61-d91e-e3faa15dd95c",
        "colab": {
          "base_uri": "https://localhost:8080/",
          "height": 1000
        }
      },
      "source": [
        "!pip install git+https://github.com/edponce/DoyleInvestigators2"
      ],
      "execution_count": 1,
      "outputs": [
        {
          "output_type": "stream",
          "text": [
            "Collecting git+https://github.com/edponce/DoyleInvestigators2\n",
            "  Cloning https://github.com/edponce/DoyleInvestigators2 to /tmp/pip-req-build-ig9bosj5\n",
            "  Running command git clone -q https://github.com/edponce/DoyleInvestigators2 /tmp/pip-req-build-ig9bosj5\n",
            "Requirement already satisfied: setuptools>=47.0 in /usr/local/lib/python3.6/dist-packages (from authordetect==1.0) (50.3.2)\n",
            "Requirement already satisfied: wheel>=0.35 in /usr/local/lib/python3.6/dist-packages (from authordetect==1.0) (0.35.1)\n",
            "Collecting typing>=3.7\n",
            "\u001b[?25l  Downloading https://files.pythonhosted.org/packages/05/d9/6eebe19d46bd05360c9a9aae822e67a80f9242aabbfc58b641b957546607/typing-3.7.4.3.tar.gz (78kB)\n",
            "\u001b[K     |████████████████████████████████| 81kB 2.2MB/s \n",
            "\u001b[?25hCollecting unidecode>=1.1\n",
            "\u001b[?25l  Downloading https://files.pythonhosted.org/packages/d0/42/d9edfed04228bacea2d824904cae367ee9efd05e6cce7ceaaedd0b0ad964/Unidecode-1.1.1-py2.py3-none-any.whl (238kB)\n",
            "\u001b[K     |████████████████████████████████| 245kB 8.7MB/s \n",
            "\u001b[?25hCollecting configparser>=5.0\n",
            "  Downloading https://files.pythonhosted.org/packages/08/b2/ef713e0e67f6e7ec7d59aea3ee78d05b39c15930057e724cc6d362a8c3bb/configparser-5.0.1-py3-none-any.whl\n",
            "Collecting psutil>=5.7\n",
            "\u001b[?25l  Downloading https://files.pythonhosted.org/packages/33/e0/82d459af36bda999f82c7ea86c67610591cf5556168f48fd6509e5fa154d/psutil-5.7.3.tar.gz (465kB)\n",
            "\u001b[K     |████████████████████████████████| 471kB 17.9MB/s \n",
            "\u001b[?25hCollecting nltk>=3.5\n",
            "\u001b[?25l  Downloading https://files.pythonhosted.org/packages/92/75/ce35194d8e3022203cca0d2f896dbb88689f9b3fce8e9f9cff942913519d/nltk-3.5.zip (1.4MB)\n",
            "\u001b[K     |████████████████████████████████| 1.4MB 21.0MB/s \n",
            "\u001b[?25hCollecting gensim>=3.8\n",
            "\u001b[?25l  Downloading https://files.pythonhosted.org/packages/2b/e0/fa6326251692056dc880a64eb22117e03269906ba55a6864864d24ec8b4e/gensim-3.8.3-cp36-cp36m-manylinux1_x86_64.whl (24.2MB)\n",
            "\u001b[K     |████████████████████████████████| 24.2MB 7.0MB/s \n",
            "\u001b[?25hCollecting scikit-learn>=0.23\n",
            "\u001b[?25l  Downloading https://files.pythonhosted.org/packages/5c/a1/273def87037a7fb010512bbc5901c31cfddfca8080bc63b42b26e3cc55b3/scikit_learn-0.23.2-cp36-cp36m-manylinux1_x86_64.whl (6.8MB)\n",
            "\u001b[K     |████████████████████████████████| 6.8MB 39.7MB/s \n",
            "\u001b[?25hRequirement already satisfied: numpy>=1.18 in /usr/local/lib/python3.6/dist-packages (from authordetect==1.0) (1.18.5)\n",
            "Requirement already satisfied: smart_open>=3.0 in /usr/local/lib/python3.6/dist-packages (from authordetect==1.0) (3.0.0)\n",
            "Collecting urllib3>=1.25\n",
            "\u001b[?25l  Downloading https://files.pythonhosted.org/packages/56/aa/4ef5aa67a9a62505db124a5cb5262332d1d4153462eb8fd89c9fa41e5d92/urllib3-1.25.11-py2.py3-none-any.whl (127kB)\n",
            "\u001b[K     |████████████████████████████████| 133kB 37.6MB/s \n",
            "\u001b[?25hRequirement already satisfied: click in /usr/local/lib/python3.6/dist-packages (from nltk>=3.5->authordetect==1.0) (7.1.2)\n",
            "Requirement already satisfied: joblib in /usr/local/lib/python3.6/dist-packages (from nltk>=3.5->authordetect==1.0) (0.17.0)\n",
            "Requirement already satisfied: regex in /usr/local/lib/python3.6/dist-packages (from nltk>=3.5->authordetect==1.0) (2019.12.20)\n",
            "Requirement already satisfied: tqdm in /usr/local/lib/python3.6/dist-packages (from nltk>=3.5->authordetect==1.0) (4.41.1)\n",
            "Requirement already satisfied: six>=1.5.0 in /usr/local/lib/python3.6/dist-packages (from gensim>=3.8->authordetect==1.0) (1.15.0)\n",
            "Requirement already satisfied: scipy>=0.18.1 in /usr/local/lib/python3.6/dist-packages (from gensim>=3.8->authordetect==1.0) (1.4.1)\n",
            "Collecting threadpoolctl>=2.0.0\n",
            "  Downloading https://files.pythonhosted.org/packages/f7/12/ec3f2e203afa394a149911729357aa48affc59c20e2c1c8297a60f33f133/threadpoolctl-2.1.0-py3-none-any.whl\n",
            "Requirement already satisfied: requests in /usr/local/lib/python3.6/dist-packages (from smart_open>=3.0->authordetect==1.0) (2.23.0)\n",
            "Requirement already satisfied: idna<3,>=2.5 in /usr/local/lib/python3.6/dist-packages (from requests->smart_open>=3.0->authordetect==1.0) (2.10)\n",
            "Requirement already satisfied: chardet<4,>=3.0.2 in /usr/local/lib/python3.6/dist-packages (from requests->smart_open>=3.0->authordetect==1.0) (3.0.4)\n",
            "Requirement already satisfied: certifi>=2017.4.17 in /usr/local/lib/python3.6/dist-packages (from requests->smart_open>=3.0->authordetect==1.0) (2020.6.20)\n",
            "Building wheels for collected packages: authordetect, typing, psutil, nltk\n",
            "  Building wheel for authordetect (setup.py) ... \u001b[?25l\u001b[?25hdone\n",
            "  Created wheel for authordetect: filename=authordetect-1.0-py2.py3-none-any.whl size=35821 sha256=42440d34ac16df4051aaa24c799fba145694361a5c8a897004b68ce67e4d9699\n",
            "  Stored in directory: /tmp/pip-ephem-wheel-cache-gc3nin8n/wheels/ca/c3/0c/fdc6a660b8df206d3da6a831d9eb4f606ca78300c46cb32a4d\n",
            "  Building wheel for typing (setup.py) ... \u001b[?25l\u001b[?25hdone\n",
            "  Created wheel for typing: filename=typing-3.7.4.3-cp36-none-any.whl size=26307 sha256=6505f4f2c1822f679ab79e091e0765f642d2a5d4686b69cca3b911113b6030d9\n",
            "  Stored in directory: /root/.cache/pip/wheels/2d/04/41/8e1836e79581989c22eebac3f4e70aaac9af07b0908da173be\n",
            "  Building wheel for psutil (setup.py) ... \u001b[?25l\u001b[?25hdone\n",
            "  Created wheel for psutil: filename=psutil-5.7.3-cp36-cp36m-linux_x86_64.whl size=281527 sha256=7381f6e8722d4157920d1eed89f75a8900b302a8c9595482811b90c7737e6cc7\n",
            "  Stored in directory: /root/.cache/pip/wheels/42/32/da/8b12fd6b138c733efd03cfde6c6c8191a32842f9e82aa45fbf\n",
            "  Building wheel for nltk (setup.py) ... \u001b[?25l\u001b[?25hdone\n",
            "  Created wheel for nltk: filename=nltk-3.5-cp36-none-any.whl size=1434676 sha256=ab55249d7a71c838292425eb126604ad7aab01a6723fa434cc6950a557094db1\n",
            "  Stored in directory: /root/.cache/pip/wheels/ae/8c/3f/b1fe0ba04555b08b57ab52ab7f86023639a526d8bc8d384306\n",
            "Successfully built authordetect typing psutil nltk\n",
            "\u001b[31mERROR: datascience 0.10.6 has requirement folium==0.2.1, but you'll have folium 0.8.3 which is incompatible.\u001b[0m\n",
            "Installing collected packages: typing, unidecode, configparser, psutil, nltk, gensim, threadpoolctl, scikit-learn, urllib3, authordetect\n",
            "  Found existing installation: psutil 5.4.8\n",
            "    Uninstalling psutil-5.4.8:\n",
            "      Successfully uninstalled psutil-5.4.8\n",
            "  Found existing installation: nltk 3.2.5\n",
            "    Uninstalling nltk-3.2.5:\n",
            "      Successfully uninstalled nltk-3.2.5\n",
            "  Found existing installation: gensim 3.6.0\n",
            "    Uninstalling gensim-3.6.0:\n",
            "      Successfully uninstalled gensim-3.6.0\n",
            "  Found existing installation: scikit-learn 0.22.2.post1\n",
            "    Uninstalling scikit-learn-0.22.2.post1:\n",
            "      Successfully uninstalled scikit-learn-0.22.2.post1\n",
            "  Found existing installation: urllib3 1.24.3\n",
            "    Uninstalling urllib3-1.24.3:\n",
            "      Successfully uninstalled urllib3-1.24.3\n",
            "Successfully installed authordetect-1.0 configparser-5.0.1 gensim-3.8.3 nltk-3.5 psutil-5.7.3 scikit-learn-0.23.2 threadpoolctl-2.1.0 typing-3.7.4.3 unidecode-1.1.1 urllib3-1.25.11\n"
          ],
          "name": "stdout"
        },
        {
          "output_type": "display_data",
          "data": {
            "application/vnd.colab-display-data+json": {
              "pip_warning": {
                "packages": [
                  "typing"
                ]
              }
            }
          },
          "metadata": {
            "tags": []
          }
        }
      ]
    },
    {
      "cell_type": "markdown",
      "metadata": {
        "id": "P0sK5h2VVLpc"
      },
      "source": [
        "# Set up NLTK"
      ]
    },
    {
      "cell_type": "code",
      "metadata": {
        "id": "W2PW1Cm8VFnk",
        "outputId": "14226bf1-76d3-4a1c-e7fb-aa2c357c97ef",
        "colab": {
          "base_uri": "https://localhost:8080/"
        }
      },
      "source": [
        "import nltk\n",
        "\n",
        "nltk.download('stopwords')\n",
        "# Sentencizer\n",
        "nltk.download('punkt')\n",
        "# Tagger\n",
        "nltk.download('averaged_perceptron_tagger')\n",
        "# Universal POS tags\n",
        "nltk.download('universal_tagset')\n",
        "# Stemmers\n",
        "nltk.download('wordnet')"
      ],
      "execution_count": 1,
      "outputs": [
        {
          "output_type": "stream",
          "text": [
            "[nltk_data] Downloading package stopwords to /root/nltk_data...\n",
            "[nltk_data]   Unzipping corpora/stopwords.zip.\n",
            "[nltk_data] Downloading package punkt to /root/nltk_data...\n",
            "[nltk_data]   Unzipping tokenizers/punkt.zip.\n",
            "[nltk_data] Downloading package averaged_perceptron_tagger to\n",
            "[nltk_data]     /root/nltk_data...\n",
            "[nltk_data]   Unzipping taggers/averaged_perceptron_tagger.zip.\n",
            "[nltk_data] Downloading package universal_tagset to /root/nltk_data...\n",
            "[nltk_data]   Unzipping taggers/universal_tagset.zip.\n",
            "[nltk_data] Downloading package wordnet to /root/nltk_data...\n",
            "[nltk_data]   Unzipping corpora/wordnet.zip.\n",
            "[nltk_data] Downloading package rslp to /root/nltk_data...\n",
            "[nltk_data]   Unzipping stemmers/rslp.zip.\n"
          ],
          "name": "stderr"
        },
        {
          "output_type": "execute_result",
          "data": {
            "text/plain": [
              "True"
            ]
          },
          "metadata": {
            "tags": []
          },
          "execution_count": 1
        }
      ]
    },
    {
      "cell_type": "code",
      "metadata": {
        "id": "15DmBlSkRjJj",
        "outputId": "4edda161-21ea-4cc9-cf4b-d131758a7812",
        "colab": {
          "base_uri": "https://localhost:8080/"
        }
      },
      "source": [
        "from authordetect import Author, Tokenizer, EmbeddingModel\n",
        "from google.colab import drive\n",
        "drive.mount('/content/gdrive')"
      ],
      "execution_count": 32,
      "outputs": [
        {
          "output_type": "stream",
          "text": [
            "Drive already mounted at /content/gdrive; to attempt to forcibly remount, call drive.mount(\"/content/gdrive\", force_remount=True).\n"
          ],
          "name": "stdout"
        }
      ]
    },
    {
      "cell_type": "markdown",
      "metadata": {
        "id": "JuhcnDerT6qU"
      },
      "source": [
        "# User Configuration"
      ]
    },
    {
      "cell_type": "code",
      "metadata": {
        "id": "7Jjqw4EmTWVd"
      },
      "source": [
        "#infile = '/content/gdrive/My Drive/2020/NLP/project2_data/Doyle.txt'\n",
        "infile = '/content/gdrive/My Drive/project2_data/Doyle_90.txt'\n",
        "workers = 1\n",
        "seed = 0"
      ],
      "execution_count": 34,
      "outputs": []
    },
    {
      "cell_type": "markdown",
      "metadata": {
        "id": "V36W5Do-1pBg"
      },
      "source": [
        "## Method 1: Load existing embedding"
      ]
    },
    {
      "cell_type": "code",
      "metadata": {
        "id": "vcYEY3zC2gdb"
      },
      "source": [
        "embedding_file = '/content/gdrive/My Drive/project2_data/doyle_50dim_350part.bin'\n",
        "embedding = EmbeddingModel()\n",
        "embedding.load(embedding_file)"
      ],
      "execution_count": null,
      "outputs": []
    },
    {
      "cell_type": "markdown",
      "metadata": {
        "id": "MAp8FphR2gdP"
      },
      "source": [
        "## Method 2: Compute embedding model\n"
      ]
    },
    {
      "cell_type": "code",
      "metadata": {
        "id": "awVC5L0M1us2"
      },
      "source": [
        "embedding = None"
      ],
      "execution_count": null,
      "outputs": []
    },
    {
      "cell_type": "markdown",
      "metadata": {
        "id": "SaJ3GnWBUA3Q"
      },
      "source": [
        "# Processing"
      ]
    },
    {
      "cell_type": "code",
      "metadata": {
        "id": "OEvBDvbRSfIZ",
        "outputId": "e55c53b6-553a-4f10-ed4a-2faa311c33d5",
        "colab": {
          "base_uri": "https://localhost:8080/"
        }
      },
      "source": [
        "# Load corpus\n",
        "a = Author(infile)\n",
        "print('Corpus characters:', len(a.corpus))\n",
        "\n",
        "# Sentence segmentation and tokenization\n",
        "a.preprocess(Tokenizer())\n",
        "print('Corpus sentences:', len(a.sentences))\n",
        "print('Corpus tokens:', len(a.words))\n",
        "print('Corpus vocabulary:', len(a.parsed.vocabulary))\n",
        "\n",
        "# Create an author's word2vec embedding model\n",
        "a.embed(embedding=embedding, workers=workers, seed=seed)\n",
        "print('Embedding vocabulary:', len(a.embedding.vocabulary))\n",
        "print('Embedding matrix:', a.embedding.vectors.shape)"
      ],
      "execution_count": 17,
      "outputs": [
        {
          "output_type": "stream",
          "text": [
            "Author corpus will be loaded from a file\n",
            "Corpus characters: 149004\n",
            "Corpus sentences: 1798\n",
            "Corpus tokens: 28077\n",
            "Corpus vocabulary: 3157\n",
            "Embedding vocabulary: 9514\n",
            "Embedding matrix: (9514, 50)\n"
          ],
          "name": "stdout"
        }
      ]
    },
    {
      "cell_type": "code",
      "metadata": {
        "id": "qLJAoTNATv67",
        "outputId": "0988e9ab-1079-446b-d29d-4d5273192428",
        "colab": {
          "base_uri": "https://localhost:8080/"
        }
      },
      "source": [
        "# Access the embedding matrix\n",
        "a.embedding.vectors"
      ],
      "execution_count": 19,
      "outputs": [
        {
          "output_type": "execute_result",
          "data": {
            "text/plain": [
              "array([[-0.08458517,  0.31352806,  0.13302723, ...,  0.01862513,\n",
              "         0.38979232,  0.1800259 ],\n",
              "       [-0.0922223 ,  0.23809287,  0.06568407, ...,  0.03081968,\n",
              "         0.3957294 ,  0.26161718],\n",
              "       [-0.0876978 ,  0.28595683,  0.10784864, ...,  0.02412959,\n",
              "         0.41350842,  0.23607069],\n",
              "       ...,\n",
              "       [-0.01113287,  0.04471222,  0.02436834, ...,  0.00605798,\n",
              "         0.06454681,  0.03173556],\n",
              "       [-0.03049656,  0.08881816,  0.02685834, ...,  0.00113281,\n",
              "         0.14136149,  0.07152015],\n",
              "       [-0.01351118,  0.04382668,  0.02055299, ..., -0.0041625 ,\n",
              "         0.07004052,  0.05543466]], dtype=float32)"
            ]
          },
          "metadata": {
            "tags": []
          },
          "execution_count": 19
        }
      ]
    },
    {
      "cell_type": "markdown",
      "metadata": {
        "id": "yA8iF1-5UEjl"
      },
      "source": [
        "# Accessing Vectors and Vocabulary"
      ]
    },
    {
      "cell_type": "code",
      "metadata": {
        "id": "XAj_yisxTxsN",
        "outputId": "e1686ff0-7c36-4133-889d-971785403b28",
        "colab": {
          "base_uri": "https://localhost:8080/"
        }
      },
      "source": [
        "w2v_model = a.embedding.model  # access Gensim's Word2Vec directly\n",
        "# w2v_model.wv.vocab\n",
        "vec = w2v_model.wv.word_vec('holmes')  # get vector associated with a word\n",
        "print(vec)"
      ],
      "execution_count": 20,
      "outputs": [
        {
          "output_type": "stream",
          "text": [
            "[-0.07477767  0.2851249   0.10109553 -0.44822007  0.9377903  -0.17236611\n",
            "  0.3415349  -0.57095474 -0.71301997  0.80478716  0.17792577 -0.01082634\n",
            "  0.1684071   0.5493342  -0.0113359   0.3309117  -0.5613406  -0.08848035\n",
            " -0.16133139  0.20504203 -0.2727542   0.05173711 -0.17708257  0.16557522\n",
            "  0.79730755 -0.04556958  0.43116406 -0.63080275 -0.5506639   0.4593112\n",
            "  0.55537003  0.00364334  0.18284535  0.3098828   0.66337734  0.23816845\n",
            " -0.08485053  0.4241082   0.15778133 -0.30170995 -0.1405421  -0.2011772\n",
            "  0.24301036  0.06292586 -0.83724934  0.1957397  -0.96886986  0.0168045\n",
            "  0.37505433  0.22854802]\n"
          ],
          "name": "stdout"
        }
      ]
    },
    {
      "cell_type": "markdown",
      "metadata": {
        "id": "fQJJuH8AcDSl"
      },
      "source": [
        "# tSNE"
      ]
    },
    {
      "cell_type": "code",
      "metadata": {
        "id": "PEzgPhXacEAa"
      },
      "source": [
        "import numpy as np\n",
        "import matplotlib.pyplot as plt\n",
        "%matplotlib inline\n",
        "import pandas as pd\n",
        " \n",
        "import seaborn as sns\n",
        "sns.set_style(\"darkgrid\")\n",
        "\n",
        "from sklearn.decomposition import PCA\n",
        "from sklearn.manifold import TSNE\n",
        "\n",
        "\n",
        "\n",
        "def get_top_n_similar_words(model, word, top_n):\n",
        "    \"\"\"\n",
        "    This method return the n most frequent words related to a specific word.\n",
        "\n",
        "    Parameters\n",
        "        model:  (Word2Vec) model that was trained over a corpus.\n",
        "        word:   (string) look for similar words to this one.\n",
        "        top_n:  (int) indicates the number of words in ascending order.\n",
        "    -\n",
        "    Returns\n",
        "        close_words: (tuple <string, float>) \n",
        "                     string: word string \n",
        "                     float: similarity index \n",
        "\n",
        "    \"\"\"\n",
        "    close_words = model.wv.most_similar([word], topn=top_n)\n",
        "    return close_words\n",
        "\n",
        "\n",
        "\n",
        "def get_top_n_disimilar_words(model, word, negative_top):\n",
        "    \"\"\"\n",
        "    This method return the n most disimilar words related to a specific word.\n",
        "\n",
        "    -\n",
        "    Parameters\n",
        "        model:  (Word2Vec) model that was trained over a corpus.\n",
        "        word:   (string) look for similar words to this one.\n",
        "        negative_top:  (int) indicates the number of words in descending order.\n",
        "    -\n",
        "    Returns\n",
        "        close_words: (tuple <string, float>) \n",
        "                     string: word string \n",
        "                     float: similarity index \n",
        "\n",
        "    \"\"\"\n",
        "    close_words = model.wv.most_similar(negative=[word], topn=negative_top)\n",
        "    return close_words\n",
        "\n",
        "\n",
        "\n",
        "def tsne_generation(model, word, n_components, similar_words, disimilar_words, embedding_size):\n",
        "    \"\"\" \n",
        "    Get the data from tSNE.\n",
        "\n",
        "    -Parameters\n",
        "        model:  (Word2Vec) model that was trained over a corpus.\n",
        "        word:   (string) word to be analized.\n",
        "        n_components: (int) number of components to apply PCA.\n",
        "        similar_words: (list) list of top similar words precalculated.\n",
        "        disimilar_words: (list) list of top disimilar words precalculated.\n",
        "        embedding_size: (int) embedding size of the words.\n",
        "\n",
        "    -Returns\n",
        "        new_data: (list) list of dim reduced data obtained from PCA and then, tSNE.\n",
        "        word_labels: (list) strings of the words (we need this to plot the results).\n",
        "        color_list: (list) colors of the list just to plotting the results.\n",
        "    \"\"\"\n",
        "\n",
        "    #1. Prepare the variables\n",
        "    #---------------------------------------------------------------------------\n",
        "    word_embeddings = np.empty((0, embedding_size), dtype='f')\n",
        "    word_labels = [word]\n",
        "    color_list  = ['red']\n",
        "    \n",
        "    # adds word embedding to search into the results array\n",
        "    word_embeddings = np.append(word_embeddings, model.wv.__getitem__([word]), axis=0)\n",
        "    #---------------------------------------------------------------------------\n",
        "\n",
        "\n",
        "    #2. Get the closest words embeddings\n",
        "    #---------------------------------------------------------------------------\n",
        "    for wrd_score in similar_words:\n",
        "        wrd_vector = model.wv.__getitem__([wrd_score[0]])\n",
        "        word_labels.append(wrd_score[0])\n",
        "        color_list.append('blue')\n",
        "        word_embeddings = np.append(word_embeddings, wrd_vector, axis = 0)\n",
        "    #---------------------------------------------------------------------------\n",
        "    \n",
        "\n",
        "    #3. Adds the vector for each of the words from list_names to the array of embeddings\n",
        "    #---------------------------------------------------------------------------\n",
        "    for wrd_tuple in disimilar_words:\n",
        "        wrd = wrd_tuple[0]\n",
        "        wrd_vector = model.wv.__getitem__([wrd])\n",
        "        word_labels.append(wrd)\n",
        "        color_list.append('green')\n",
        "        word_embeddings = np.append(word_embeddings, wrd_vector, axis = 0)\n",
        "    #---------------------------------------------------------------------------\n",
        "\n",
        "\n",
        "    # 4. Reduces the dimensionality of the embeddings to the number <<n_components>> dimensions with PCA\n",
        "    #---------------------------------------------------------------------------\n",
        "    reduc = PCA(n_components=n_components).fit_transform(word_embeddings)\n",
        "    #---------------------------------------------------------------------------\n",
        "\n",
        "\n",
        "    # 5. Finds t-SNE coordinates for 2 dimensions\n",
        "    #---------------------------------------------------------------------------\n",
        "    np.set_printoptions(suppress=True)\n",
        "    new_data = TSNE(n_components=2, random_state=0, perplexity=15).fit_transform(reduc)\n",
        "    #---------------------------------------------------------------------------\n",
        "\n",
        "    return new_data, word_labels, color_list\n",
        "    \n",
        "\n",
        "\n",
        "def plot_tsne(data, main_word, word_labels, color_list):\n",
        "    \"\"\"\n",
        "    Plot the results from the tSNE method.\n",
        "\n",
        "    -\n",
        "    Parameters:\n",
        "        data: (list) tSNE data.\n",
        "        main_word: word from which we want to plot.\n",
        "        word_labels: (list) strings of the words (we need this to plot the results).\n",
        "        color_list: (list) colors of the list just to plotting the results.\n",
        "\n",
        "    -\n",
        "    Returns:\n",
        "        None.\n",
        "    \"\"\"\n",
        "\n",
        "    # Sets everything up to plot\n",
        "    df = pd.DataFrame({'x': [x for x in data[:, 0]],\n",
        "                       'y': [y for y in data[:, 1]],\n",
        "                       'words': word_labels,\n",
        "                       'color': color_list})\n",
        "    \n",
        "    fig, _ = plt.subplots()\n",
        "    fig.set_size_inches(9, 9)\n",
        "    \n",
        "    # Basic plot\n",
        "    p1 = sns.regplot(data=df,\n",
        "                     x=\"x\",\n",
        "                     y=\"y\",\n",
        "                     fit_reg=False,\n",
        "                     marker=\"o\",\n",
        "                     scatter_kws={'s': 40,\n",
        "                                  'facecolors': df['color']\n",
        "                                 }\n",
        "                    )\n",
        "    \n",
        "    # Adds annotations one by one with a loop\n",
        "    for line in range(0, df.shape[0]):\n",
        "         p1.text(df[\"x\"][line],\n",
        "                 df['y'][line],\n",
        "                 '  ' + df[\"words\"][line].title(),\n",
        "                 horizontalalignment='left',\n",
        "                 verticalalignment='bottom', size='medium',\n",
        "                 color=df['color'][line],\n",
        "                 weight='normal'\n",
        "                ).set_size(15)\n",
        "\n",
        "    plt.xlim(data[:, 0].min()-50, data[:, 0].max()+50)\n",
        "    plt.ylim(data[:, 1].min()-50, data[:, 1].max()+50)\n",
        "    plt.title('t-SNE visualization for {}'.format(main_word.title()))#'''"
      ],
      "execution_count": 29,
      "outputs": []
    },
    {
      "cell_type": "code",
      "metadata": {
        "id": "ytxdD5dYcKoy",
        "outputId": "d5e7d5bc-3e4f-429a-8f51-bb6a57007a69",
        "colab": {
          "base_uri": "https://localhost:8080/",
          "height": 567
        }
      },
      "source": [
        "#-----------------------Parameters------------------------\n",
        "word_ = 'watson'\n",
        "top_ = 14\n",
        "embedding_size_ = 50\n",
        "n_components_ = 20\n",
        "\n",
        "#--------------Get similar and disimilar words------------\n",
        "similar_words_ = get_top_n_similar_words(w2v_model, word_, top_)\n",
        "disimilar_words_ = get_top_n_disimilar_words(w2v_model, word_, top_)\n",
        "\n",
        "#---------------------------Get data from tSNE------------------------------\n",
        "data, labels, colors = tsne_generation(w2v_model, word_, n_components_, similar_words_, disimilar_words_, embedding_size_)\n",
        "plot_tsne(data, word_, labels, colors)"
      ],
      "execution_count": 31,
      "outputs": [
        {
          "output_type": "display_data",
          "data": {
            "image/png": "[encoded data removed]",
            "text/plain": [
              "<Figure size 648x648 with 1 Axes>"
            ]
          },
          "metadata": {
            "tags": []
          }
        }
      ]
    }
  ]
}