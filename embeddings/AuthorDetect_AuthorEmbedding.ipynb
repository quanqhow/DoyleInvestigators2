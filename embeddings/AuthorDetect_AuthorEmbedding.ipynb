{
  "nbformat": 4,
  "nbformat_minor": 0,
  "metadata": {
    "colab": {
      "name": "AuthorDetect_AuthorEmbedding.ipynb",
      "provenance": [],
      "authorship_tag": "ABX9TyMBUrmcRWVfjDFLuhDkkELL",
      "include_colab_link": true
    },
    "kernelspec": {
      "name": "python3",
      "display_name": "Python 3"
    }
  },
  "cells": [
    {
      "cell_type": "markdown",
      "metadata": {
        "id": "view-in-github",
        "colab_type": "text"
      },
      "source": [
        "<a href=\"https://colab.research.google.com/github/edponce/DoyleInvestigators2/blob/main/AuthorDetect_AuthorEmbedding.ipynb\" target=\"_parent\"><img src=\"https://colab.research.google.com/assets/colab-badge.svg\" alt=\"Open In Colab\"/></a>"
      ]
    },
    {
      "cell_type": "markdown",
      "metadata": {
        "id": "lbqRlwmTUKeT"
      },
      "source": [
        "# Install AuthorDetect from GitHub repository"
      ]
    },
    {
      "cell_type": "code",
      "metadata": {
        "id": "Uis9DLaqQT2J"
      },
      "source": [
        "!pip install git+https://github.com/edponce/DoyleInvestigators2"
      ],
      "execution_count": null,
      "outputs": []
    },
    {
      "cell_type": "markdown",
      "metadata": {
        "id": "P0sK5h2VVLpc"
      },
      "source": [
        "# Set up NLTK"
      ]
    },
    {
      "cell_type": "code",
      "metadata": {
        "id": "W2PW1Cm8VFnk"
      },
      "source": [
        "import nltk\n",
        "\n",
        "nltk.download('stopwords')\n",
        "# Sentencizer\n",
        "nltk.download('punkt')\n",
        "# Tagger\n",
        "nltk.download('averaged_perceptron_tagger')\n",
        "# Universal POS tags\n",
        "nltk.download('universal_tagset')\n",
        "# Stemmers\n",
        "nltk.download('wordnet')\n",
        "nltk.download('rslp')"
      ],
      "execution_count": null,
      "outputs": []
    },
    {
      "cell_type": "code",
      "metadata": {
        "id": "15DmBlSkRjJj"
      },
      "source": [
        "from authordetect import Author, Tokenizer\n",
        "from google.colab import drive\n",
        "drive.mount('/content/gdrive')"
      ],
      "execution_count": null,
      "outputs": []
    },
    {
      "cell_type": "markdown",
      "metadata": {
        "id": "JuhcnDerT6qU"
      },
      "source": [
        "# User Configuration"
      ]
    },
    {
      "cell_type": "code",
      "metadata": {
        "id": "7Jjqw4EmTWVd"
      },
      "source": [
        "infile = '/content/gdrive/My Drive/project2_data/Doyle_10.txt'\n",
        "workers = 1\n",
        "seed = 0"
      ],
      "execution_count": null,
      "outputs": []
    },
    {
      "cell_type": "markdown",
      "metadata": {
        "id": "SaJ3GnWBUA3Q"
      },
      "source": [
        "# Processing"
      ]
    },
    {
      "cell_type": "code",
      "metadata": {
        "id": "OEvBDvbRSfIZ"
      },
      "source": [
        "# Load corpus\n",
        "a = Author(infile)\n",
        "print('Corpus characters:', len(a.corpus))\n",
        "\n",
        "# Sentence segmentation and tokenization\n",
        "a.preprocess(Tokenizer())\n",
        "print('Corpus sentences:', len(a.sentences))\n",
        "print('Corpus tokens:', len(a.words))\n",
        "print('Corpus vocabulary:', len(a.parsed.vocabulary))\n",
        "\n",
        "# Create an author's word2vec embedding model\n",
        "a.embed(workers=workers, seed=seed)\n",
        "print('Embedding vocabulary:', len(a.model.vocabulary))\n",
        "print('Embedding matrix:', a.model.vectors.shape)"
      ],
      "execution_count": null,
      "outputs": []
    },
    {
      "cell_type": "code",
      "metadata": {
        "id": "qLJAoTNATv67"
      },
      "source": [
        "# Access the embedding matrix\n",
        "a.model.vectors"
      ],
      "execution_count": null,
      "outputs": []
    },
    {
      "cell_type": "markdown",
      "metadata": {
        "id": "yA8iF1-5UEjl"
      },
      "source": [
        "# Accessing Vectors and Vocabulary"
      ]
    },
    {
      "cell_type": "code",
      "metadata": {
        "id": "XAj_yisxTxsN"
      },
      "source": [
        "w2v_model = a.model.model  # access Gensim's Word2Vec directly\n",
        "# w2v_model.wv.vocab\n",
        "vec = w2v_model.wv.word_vec('holmes')  # get vector associated with a word\n",
        "print(vec)"
      ],
      "execution_count": null,
      "outputs": []
    }
  ]
}