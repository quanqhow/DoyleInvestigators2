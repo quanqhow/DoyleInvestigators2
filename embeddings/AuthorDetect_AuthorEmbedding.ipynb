{
  "nbformat": 4,
  "nbformat_minor": 0,
  "metadata": {
    "colab": {
      "name": "AuthorDetect_AuthorEmbedding.ipynb",
      "provenance": [],
      "toc_visible": true,
      "include_colab_link": true
    },
    "kernelspec": {
      "name": "python3",
      "display_name": "Python 3"
    }
  },
  "cells": [
    {
      "cell_type": "markdown",
      "metadata": {
        "id": "view-in-github",
        "colab_type": "text"
      },
      "source": [
        "<a href=\"https://colab.research.google.com/github/edponce/DoyleInvestigators2/blob/main/embeddings/AuthorDetect_AuthorEmbedding.ipynb\" target=\"_parent\"><img src=\"https://colab.research.google.com/assets/colab-badge.svg\" alt=\"Open In Colab\"/></a>"
      ]
    },
    {
      "cell_type": "markdown",
      "metadata": {
        "id": "lbqRlwmTUKeT"
      },
      "source": [
        "# Install AuthorDetect from GitHub repository"
      ]
    },
    {
      "cell_type": "code",
      "metadata": {
        "id": "Uis9DLaqQT2J"
      },
      "source": [
        "!pip install git+https://github.com/edponce/DoyleInvestigators2"
      ],
      "execution_count": null,
      "outputs": []
    },
    {
      "cell_type": "markdown",
      "metadata": {
        "id": "P0sK5h2VVLpc"
      },
      "source": [
        "# Set up NLTK"
      ]
    },
    {
      "cell_type": "code",
      "metadata": {
        "id": "W2PW1Cm8VFnk"
      },
      "source": [
        "import nltk\n",
        "\n",
        "nltk.download('stopwords')\n",
        "# Sentencizer\n",
        "nltk.download('punkt')\n",
        "# Tagger\n",
        "nltk.download('averaged_perceptron_tagger')\n",
        "# Universal POS tags\n",
        "nltk.download('universal_tagset')\n",
        "# Stemmers\n",
        "nltk.download('wordnet')\n",
        "nltk.download('rslp')"
      ],
      "execution_count": null,
      "outputs": []
    },
    {
      "cell_type": "code",
      "metadata": {
        "id": "15DmBlSkRjJj",
        "outputId": "0bc62dba-3b3e-44c9-e434-7cee279c1602",
        "colab": {
          "base_uri": "https://localhost:8080/"
        }
      },
      "source": [
        "from authordetect import Author, Tokenizer\n",
        "from google.colab import drive\n",
        "drive.mount('/content/gdrive')"
      ],
      "execution_count": 4,
      "outputs": [
        {
          "output_type": "stream",
          "text": [
            "Drive already mounted at /content/gdrive; to attempt to forcibly remount, call drive.mount(\"/content/gdrive\", force_remount=True).\n"
          ],
          "name": "stdout"
        }
      ]
    },
    {
      "cell_type": "markdown",
      "metadata": {
        "id": "JuhcnDerT6qU"
      },
      "source": [
        "# User Configuration"
      ]
    },
    {
      "cell_type": "code",
      "metadata": {
        "id": "7Jjqw4EmTWVd"
      },
      "source": [
        "infile = '/content/gdrive/My Drive/2020/NLP/project2_data/Doyle.txt'\n",
        "workers = 1\n",
        "seed = 0"
      ],
      "execution_count": 5,
      "outputs": []
    },
    {
      "cell_type": "markdown",
      "metadata": {
        "id": "SaJ3GnWBUA3Q"
      },
      "source": [
        "# Processing"
      ]
    },
    {
      "cell_type": "code",
      "metadata": {
        "id": "OEvBDvbRSfIZ",
        "outputId": "d3bce252-483d-46b7-cf53-c2e0a26e5108",
        "colab": {
          "base_uri": "https://localhost:8080/"
        }
      },
      "source": [
        "# Load corpus\n",
        "a = Author(infile)\n",
        "print('Corpus characters:', len(a.corpus))\n",
        "\n",
        "# Sentence segmentation and tokenization\n",
        "a.preprocess(Tokenizer())\n",
        "print('Corpus sentences:', len(a.sentences))\n",
        "print('Corpus tokens:', len(a.words))\n",
        "print('Corpus vocabulary:', len(a.parsed.vocabulary))\n",
        "\n",
        "# Create an author's word2vec embedding model\n",
        "a.embed(workers=workers, seed=seed)\n",
        "print('Embedding vocabulary:', len(a.model.vocabulary))\n",
        "print('Embedding matrix:', a.model.vectors.shape)"
      ],
      "execution_count": 6,
      "outputs": [
        {
          "output_type": "stream",
          "text": [
            "Input Mode: Author corpus is loaded from a text file\n",
            "Corpus characters: 1465962\n",
            "Corpus sentences: 18617\n",
            "Corpus tokens: 274215\n",
            "Corpus vocabulary: 9862\n",
            "Embedding vocabulary: 9862\n",
            "Embedding matrix: (9862, 50)\n"
          ],
          "name": "stdout"
        }
      ]
    },
    {
      "cell_type": "code",
      "metadata": {
        "id": "qLJAoTNATv67",
        "outputId": "feff0dc9-41d0-4173-e209-b14a95bb5d4b",
        "colab": {
          "base_uri": "https://localhost:8080/"
        }
      },
      "source": [
        "# Access the embedding matrix\n",
        "a.model.vectors"
      ],
      "execution_count": 7,
      "outputs": [
        {
          "output_type": "execute_result",
          "data": {
            "text/plain": [
              "array([[-1.28881093e-02, -1.09816544e-01, -3.86936575e-01, ...,\n",
              "        -5.80031984e-02,  1.66377485e-01, -6.99471831e-01],\n",
              "       [-1.51969064e-02, -1.15069136e-01, -4.29084629e-01, ...,\n",
              "        -1.08212329e-01,  1.39766559e-01, -6.77269757e-01],\n",
              "       [-2.86927763e-02, -9.21300799e-02, -4.17339206e-01, ...,\n",
              "        -9.94007885e-02,  1.45871595e-01, -6.72258496e-01],\n",
              "       ...,\n",
              "       [-4.17963107e-04, -3.10755372e-02, -1.36959046e-01, ...,\n",
              "        -2.85120122e-02,  4.03501205e-02, -2.11495772e-01],\n",
              "       [ 1.15655060e-03, -3.42116468e-02, -1.42557099e-01, ...,\n",
              "        -2.34363023e-02,  3.28763612e-02, -2.23211735e-01],\n",
              "       [-5.98395942e-03, -1.87875926e-02, -6.01616800e-02, ...,\n",
              "        -1.73515882e-02,  2.18202639e-02, -8.15242529e-02]], dtype=float32)"
            ]
          },
          "metadata": {
            "tags": []
          },
          "execution_count": 7
        }
      ]
    },
    {
      "cell_type": "markdown",
      "metadata": {
        "id": "yA8iF1-5UEjl"
      },
      "source": [
        "# Accessing Vectors and Vocabulary"
      ]
    },
    {
      "cell_type": "code",
      "metadata": {
        "id": "XAj_yisxTxsN",
        "outputId": "0ac7c965-f38b-439c-dc22-213c0c603b2f",
        "colab": {
          "base_uri": "https://localhost:8080/"
        }
      },
      "source": [
        "w2v_model = a.model.model  # access Gensim's Word2Vec directly\n",
        "# w2v_model.wv.vocab\n",
        "vec = w2v_model.wv.word_vec('holmes')  # get vector associated with a word\n",
        "print(vec)"
      ],
      "execution_count": 8,
      "outputs": [
        {
          "output_type": "stream",
          "text": [
            "[-0.0327802  -0.12241148 -0.39956596 -0.68533736 -0.18933086  0.28353828\n",
            " -0.690502    0.18694074 -0.82985246 -0.45941842 -0.16753794 -0.10827336\n",
            " -0.12148998 -0.6465521   0.2964652  -0.28987572 -0.22346865 -0.5125089\n",
            "  0.08407632 -0.37043518  0.18037356 -0.21150438 -0.20850547 -0.18623362\n",
            " -0.26629293  1.4552295  -0.9583906   0.16712801 -0.31563643 -0.1627263\n",
            "  0.3745504   0.00695909  0.07214231 -0.4217578  -0.14946757  0.4089355\n",
            " -0.42365134  0.42825583  0.30786675 -0.07406739  0.37360957  0.20617805\n",
            " -0.28687963 -0.47985995 -0.15485212  0.10928892 -0.4767237  -0.09635272\n",
            "  0.14059749 -0.6507013 ]\n"
          ],
          "name": "stdout"
        }
      ]
    },
    {
      "cell_type": "markdown",
      "metadata": {
        "id": "fQJJuH8AcDSl"
      },
      "source": [
        "# tSNE"
      ]
    },
    {
      "cell_type": "code",
      "metadata": {
        "id": "PEzgPhXacEAa"
      },
      "source": [
        "import numpy as np\n",
        "import matplotlib.pyplot as plt\n",
        "%matplotlib inline\n",
        "import pandas as pd\n",
        " \n",
        "import seaborn as sns\n",
        "sns.set_style(\"darkgrid\")\n",
        "\n",
        "from sklearn.decomposition import PCA\n",
        "from sklearn.manifold import TSNE\n",
        "\n",
        "\n",
        "\n",
        "def get_top_n_similar_words(model, word, top_n):\n",
        "    \"\"\"\n",
        "    This method return the n most frequent words related to a specific word.\n",
        "\n",
        "    Parameters\n",
        "        model:  (Word2Vec) model that was trained over a corpus.\n",
        "        word:   (string) look for similar words to this one.\n",
        "        top_n:  (int) indicates the number of words in ascending order.\n",
        "    -\n",
        "    Returns\n",
        "        close_words: (tuple <string, float>) \n",
        "                     string: word string \n",
        "                     float: similarity index \n",
        "\n",
        "    \"\"\"\n",
        "    close_words = model.wv.most_similar([word], topn=top_n)\n",
        "    return close_words\n",
        "\n",
        "\n",
        "\n",
        "def get_top_n_disimilar_words(model, word, negative_top):\n",
        "    \"\"\"\n",
        "    This method return the n most disimilar words related to a specific word.\n",
        "\n",
        "    -\n",
        "    Parameters\n",
        "        model:  (Word2Vec) model that was trained over a corpus.\n",
        "        word:   (string) look for similar words to this one.\n",
        "        negative_top:  (int) indicates the number of words in descending order.\n",
        "    -\n",
        "    Returns\n",
        "        close_words: (tuple <string, float>) \n",
        "                     string: word string \n",
        "                     float: similarity index \n",
        "\n",
        "    \"\"\"\n",
        "    close_words = model.wv.most_similar(negative=[word], topn=negative_top)\n",
        "    return close_words\n",
        "\n",
        "\n",
        "\n",
        "def tsne_generation(model, word, n_components, similar_words, disimilar_words, embedding_size):\n",
        "    \"\"\" \n",
        "    Get the data from tSNE.\n",
        "\n",
        "    -Parameters\n",
        "        model:  (Word2Vec) model that was trained over a corpus.\n",
        "        word:   (string) word to be analized.\n",
        "        n_components: (int) number of components to apply PCA.\n",
        "        similar_words: (list) list of top similar words precalculated.\n",
        "        disimilar_words: (list) list of top disimilar words precalculated.\n",
        "        embedding_size: (int) embedding size of the words.\n",
        "\n",
        "    -Returns\n",
        "        new_data: (list) list of dim reduced data obtained from PCA and then, tSNE.\n",
        "        word_labels: (list) strings of the words (we need this to plot the results).\n",
        "        color_list: (list) colors of the list just to plotting the results.\n",
        "    \"\"\"\n",
        "\n",
        "    #1. Prepare the variables\n",
        "    #---------------------------------------------------------------------------\n",
        "    word_embeddings = np.empty((0, embedding_size), dtype='f')\n",
        "    word_labels = [word]\n",
        "    color_list  = ['red']\n",
        "    \n",
        "    # adds word embedding to search into the results array\n",
        "    word_embeddings = np.append(word_embeddings, model.wv.__getitem__([word]), axis=0)\n",
        "    #---------------------------------------------------------------------------\n",
        "\n",
        "\n",
        "    #2. Get the closest words embeddings\n",
        "    #---------------------------------------------------------------------------\n",
        "    for wrd_score in similar_words:\n",
        "        wrd_vector = model.wv.__getitem__([wrd_score[0]])\n",
        "        word_labels.append(wrd_score[0])\n",
        "        color_list.append('blue')\n",
        "        word_embeddings = np.append(word_embeddings, wrd_vector, axis = 0)\n",
        "    #---------------------------------------------------------------------------\n",
        "    \n",
        "\n",
        "    #3. Adds the vector for each of the words from list_names to the array of embeddings\n",
        "    #---------------------------------------------------------------------------\n",
        "    for wrd_tuple in disimilar_words:\n",
        "        wrd = wrd_tuple[0]\n",
        "        wrd_vector = model.wv.__getitem__([wrd])\n",
        "        word_labels.append(wrd)\n",
        "        color_list.append('green')\n",
        "        word_embeddings = np.append(word_embeddings, wrd_vector, axis = 0)\n",
        "    #---------------------------------------------------------------------------\n",
        "\n",
        "\n",
        "    # 4. Reduces the dimensionality of the embeddings to the number <<n_components>> dimensions with PCA\n",
        "    #---------------------------------------------------------------------------\n",
        "    reduc = PCA(n_components=n_components).fit_transform(word_embeddings)\n",
        "    #---------------------------------------------------------------------------\n",
        "\n",
        "\n",
        "    # 5. Finds t-SNE coordinates for 2 dimensions\n",
        "    #---------------------------------------------------------------------------\n",
        "    np.set_printoptions(suppress=True)\n",
        "    new_data = TSNE(n_components=2, random_state=0, perplexity=15).fit_transform(reduc)\n",
        "    #---------------------------------------------------------------------------\n",
        "\n",
        "    return new_data, word_labels, color_list\n",
        "    \n",
        "\n",
        "\n",
        "def plot_tsne(data, main_word, word_labels, color_list):\n",
        "    \"\"\"\n",
        "    Plot the results from the tSNE method.\n",
        "\n",
        "    -\n",
        "    Parameters:\n",
        "        data: (list) tSNE data.\n",
        "        main_word: word from which we want to plot.\n",
        "        word_labels: (list) strings of the words (we need this to plot the results).\n",
        "        color_list: (list) colors of the list just to plotting the results.\n",
        "\n",
        "    -\n",
        "    Returns:\n",
        "        None.\n",
        "    \"\"\"\n",
        "\n",
        "    # Sets everything up to plot\n",
        "    df = pd.DataFrame({'x': [x for x in data[:, 0]],\n",
        "                       'y': [y for y in data[:, 1]],\n",
        "                       'words': word_labels,\n",
        "                       'color': color_list})\n",
        "    \n",
        "    fig, _ = plt.subplots()\n",
        "    fig.set_size_inches(9, 9)\n",
        "    \n",
        "    # Basic plot\n",
        "    p1 = sns.regplot(data=df,\n",
        "                     x=\"x\",\n",
        "                     y=\"y\",\n",
        "                     fit_reg=False,\n",
        "                     marker=\"o\",\n",
        "                     scatter_kws={'s': 40,\n",
        "                                  'facecolors': df['color']\n",
        "                                 }\n",
        "                    )\n",
        "    \n",
        "    # Adds annotations one by one with a loop\n",
        "    for line in range(0, df.shape[0]):\n",
        "         p1.text(df[\"x\"][line],\n",
        "                 df['y'][line],\n",
        "                 '  ' + df[\"words\"][line].title(),\n",
        "                 horizontalalignment='left',\n",
        "                 verticalalignment='bottom', size='medium',\n",
        "                 color=df['color'][line],\n",
        "                 weight='normal'\n",
        "                ).set_size(15)\n",
        "\n",
        "    plt.xlim(data[:, 0].min()-50, data[:, 0].max()+50)\n",
        "    plt.ylim(data[:, 1].min()-50, data[:, 1].max()+50)\n",
        "    plt.title('t-SNE visualization for {}'.format(main_word.title()))#'''"
      ],
      "execution_count": 9,
      "outputs": []
    },
    {
      "cell_type": "code",
      "metadata": {
        "id": "ytxdD5dYcKoy",
        "outputId": "64126486-252e-4395-fd65-19c3569baff6",
        "colab": {
          "base_uri": "https://localhost:8080/",
          "height": 567
        }
      },
      "source": [
        "#-----------------------Parameters------------------------\n",
        "word_ = 'holmes'\n",
        "top_ = 14\n",
        "embedding_size_ = 50\n",
        "n_components_ = 20\n",
        "\n",
        "#--------------Get similar and disimilar words------------\n",
        "similar_words_ = get_top_n_similar_words(w2v_model, word_, top_)\n",
        "disimilar_words_ = get_top_n_disimilar_words(w2v_model, word_, top_)\n",
        "\n",
        "#---------------------------Get data from tSNE------------------------------\n",
        "data, labels, colors = tsne_generation(w2v_model, word_, n_components_, similar_words_, disimilar_words_, embedding_size_)\n",
        "plot_tsne(data, word_, labels, colors)"
      ],
      "execution_count": 13,
      "outputs": [
        {
          "output_type": "display_data",
          "data": {
            "image/png": "[encoded data removed]",
            "text/plain": [
              "<Figure size 648x648 with 1 Axes>"
            ]
          },
          "metadata": {
            "tags": []
          }
        }
      ]
    }
  ]
}