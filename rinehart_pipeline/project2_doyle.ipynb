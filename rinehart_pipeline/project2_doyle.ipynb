{
  "nbformat": 4,
  "nbformat_minor": 0,
  "metadata": {
    "colab": {
      "name": "project2_doyle.ipynb",
      "provenance": [],
      "collapsed_sections": [],
      "toc_visible": true,
      "include_colab_link": true
    },
    "kernelspec": {
      "display_name": "Python 3",
      "name": "python3"
    }
  },
  "cells": [
    {
      "cell_type": "markdown",
      "metadata": {
        "id": "view-in-github",
        "colab_type": "text"
      },
      "source": [
        "<a href=\"https://colab.research.google.com/github/edponce/DoyleInvestigators2/blob/main/project2_doyle.ipynb\" target=\"_parent\"><img src=\"https://colab.research.google.com/assets/colab-badge.svg\" alt=\"Open In Colab\"/></a>"
      ]
    },
    {
      "cell_type": "code",
      "metadata": {
        "id": "vU2UZc1BSNbL"
      },
      "source": [
        "# Import modules\n",
        "import requests\n",
        "import re, spacy\n",
        "from collections import defaultdict\n",
        "import pandas as pd\n",
        "import numpy as np\n",
        "import itertools\n",
        "import pickle\n",
        "from wordcloud import WordCloud\n",
        "import matplotlib.pyplot as plt\n",
        "from matplotlib.pyplot import figure\n",
        "from matplotlib.ticker import MultipleLocator\n",
        "%matplotlib inline\n",
        "import random\n",
        "from itertools import chain"
      ],
      "execution_count": 31,
      "outputs": []
    },
    {
      "cell_type": "code",
      "metadata": {
        "id": "g3mBcLpLJbrv",
        "outputId": "8d29fba7-783e-44e2-fe66-86c499877a99",
        "colab": {
          "base_uri": "https://localhost:8080/"
        }
      },
      "source": [
        "import re  # For preprocessing\n",
        "import pandas as pd  # For data handling\n",
        "from time import time  # To time our operations\n",
        "from collections import defaultdict  # For word frequency\n",
        "\n",
        "import spacy  # For preprocessing\n",
        "import nltk\n",
        "nltk.download('punkt')\n",
        "nltk.download('wordnet')\n",
        "from nltk.stem.wordnet import WordNetLemmatizer\n",
        "from nltk import word_tokenize\n",
        "\n",
        "import logging  # Setting up the loggings to monitor gensim\n",
        "logging.basicConfig(format=\"%(levelname)s - %(asctime)s: %(message)s\", datefmt= '%H:%M:%S', level=logging.INFO)\n",
        "\n",
        "import multiprocessing\n",
        "from gensim.models import Word2Vec\n",
        "from gensim.models.phrases import Phrases, Phraser\n",
        "nlp = spacy.load('en', disable=['ner', 'parser']) # disabling Named Entity Recognition for speed\n",
        "\n",
        "import pickle\n",
        "\n",
        "import numpy as np\n",
        "import matplotlib.pyplot as plt\n",
        "%matplotlib inline\n",
        " \n",
        "import seaborn as sns\n",
        "sns.set_style(\"darkgrid\")\n",
        "\n",
        "from sklearn.decomposition import PCA\n",
        "from sklearn.manifold import TSNE\n",
        "from sklearn.model_selection import train_test_split\n",
        "\n",
        "from random import shuffle"
      ],
      "execution_count": 32,
      "outputs": [
        {
          "output_type": "stream",
          "text": [
            "[nltk_data] Downloading package punkt to /root/nltk_data...\n",
            "[nltk_data]   Package punkt is already up-to-date!\n",
            "[nltk_data] Downloading package wordnet to /root/nltk_data...\n",
            "[nltk_data]   Package wordnet is already up-to-date!\n"
          ],
          "name": "stdout"
        }
      ]
    },
    {
      "cell_type": "code",
      "metadata": {
        "id": "oblo-6o87X2y",
        "outputId": "6c4b4d1f-7bba-4987-fb40-06314391c263",
        "colab": {
          "base_uri": "https://localhost:8080/"
        }
      },
      "source": [
        "# Load the Drive helper and mount\n",
        "from google.colab import drive\n",
        "drive.mount('/content/drive')"
      ],
      "execution_count": 33,
      "outputs": [
        {
          "output_type": "stream",
          "text": [
            "Drive already mounted at /content/drive; to attempt to forcibly remount, call drive.mount(\"/content/drive\", force_remount=True).\n"
          ],
          "name": "stdout"
        }
      ]
    },
    {
      "cell_type": "markdown",
      "metadata": {
        "id": "AnlbSYlR0vdQ"
      },
      "source": [
        "# Load word2vec models"
      ]
    },
    {
      "cell_type": "code",
      "metadata": {
        "id": "NQyMNg4_UzGm"
      },
      "source": [
        "from sklearn.neural_network import MLPClassifier\n",
        "from sklearn.model_selection import train_test_split\n",
        "from sklearn.metrics import accuracy_score\n",
        "from sklearn.metrics import confusion_matrix\n",
        "from sklearn.metrics import f1_score\n",
        "import pickle"
      ],
      "execution_count": 34,
      "outputs": []
    },
    {
      "cell_type": "code",
      "metadata": {
        "id": "IuBO0jzAYqIQ"
      },
      "source": [
        "doyle_w2v_sent_300 = pickle.load(open('/content/drive/Shared drives/ECE-692 Rinehart Investigators /Project 2/models/doyle_w2v_model_dim300_window12_cb.sav', 'rb'))\n",
        "doyle_w2v_sent_50 = pickle.load(open('/content/drive/Shared drives/ECE-692 Rinehart Investigators /Project 2/models/doyle_w2v_model_dim50_window12_cb.sav', 'rb'))"
      ],
      "execution_count": 36,
      "outputs": []
    },
    {
      "cell_type": "markdown",
      "metadata": {
        "id": "d7DH0L22yBqE"
      },
      "source": [
        "# Load data from each author"
      ]
    },
    {
      "cell_type": "code",
      "metadata": {
        "id": "VgXbRbMg0xzO"
      },
      "source": [
        "df_train = pd.read_csv('/content/drive/Shared drives/ECE-692 Rinehart Investigators /Project 2/data/data_documents/Rinehart_350_train.csv')\n",
        "df_chri_350_train = pd.read_csv('/content/drive/Shared drives/ECE-692 Rinehart Investigators /Project 2/data/data_documents/Christie_350_train.csv').sample(n=int(len(df_train)/2.0), replace=False, random_state=1)\n",
        "df_doyl_350_train = pd.read_csv('/content/drive/Shared drives/ECE-692 Rinehart Investigators /Project 2/data/data_documents/Doyle_350_train.csv').sample(n=int(len(df_train)/2.0), replace=False, random_state=1)\n",
        "\n",
        "df_test = pd.read_csv('/content/drive/Shared drives/ECE-692 Rinehart Investigators /Project 2/data/data_documents/Rinehart_350_test.csv')\n",
        "df_chri_350_test = pd.read_csv('/content/drive/Shared drives/ECE-692 Rinehart Investigators /Project 2/data/data_documents/Christie_350_test.csv')\n",
        "df_doyl_350_test = pd.read_csv('/content/drive/Shared drives/ECE-692 Rinehart Investigators /Project 2/data/data_documents/Doyle_350_test.csv')"
      ],
      "execution_count": 37,
      "outputs": []
    },
    {
      "cell_type": "code",
      "metadata": {
        "id": "l_6aZqiNULFb"
      },
      "source": [
        "df_train1 = pd.read_csv('/content/drive/Shared drives/ECE-692 Rinehart Investigators /Project 2/data/data_documents/Rinehart_1400_train.csv')\n",
        "df_chri_1400_train = pd.read_csv('/content/drive/Shared drives/ECE-692 Rinehart Investigators /Project 2/data/data_documents/Christie_1400_train.csv').sample(n=int(len(df_train1)/2.0), replace=False, random_state=1)\n",
        "df_doyl_1400_train = pd.read_csv('/content/drive/Shared drives/ECE-692 Rinehart Investigators /Project 2/data/data_documents/Doyle_1400_train.csv').sample(n=int(len(df_train1)/2.0), replace=False, random_state=1)\n",
        "\n",
        "df_test1 = pd.read_csv('/content/drive/Shared drives/ECE-692 Rinehart Investigators /Project 2/data/data_documents/Rinehart_1400_test.csv')\n",
        "df_chri_1400_test = pd.read_csv('/content/drive/Shared drives/ECE-692 Rinehart Investigators /Project 2/data/data_documents/Christie_1400_test.csv')\n",
        "df_doyl_1400_test = pd.read_csv('/content/drive/Shared drives/ECE-692 Rinehart Investigators /Project 2/data/data_documents/Doyle_1400_test.csv')"
      ],
      "execution_count": 38,
      "outputs": []
    },
    {
      "cell_type": "code",
      "metadata": {
        "id": "wvpIGEq7ULDN"
      },
      "source": [
        "df_train2 = pd.read_csv('/content/drive/Shared drives/ECE-692 Rinehart Investigators /Project 2/data/data_documents/Rinehart_3500_train.csv')\n",
        "df_chri_3500_train = pd.read_csv('/content/drive/Shared drives/ECE-692 Rinehart Investigators /Project 2/data/data_documents/Christie_3500_train.csv').sample(n=int(len(df_train2)/2.0), replace=False, random_state=1)\n",
        "df_doyl_3500_train = pd.read_csv('/content/drive/Shared drives/ECE-692 Rinehart Investigators /Project 2/data/data_documents/Doyle_3500_train.csv').sample(n=int(len(df_train2)/2.0), replace=False, random_state=1)\n",
        "\n",
        "df_test2 = pd.read_csv('/content/drive/Shared drives/ECE-692 Rinehart Investigators /Project 2/data/data_documents/Rinehart_3500_test.csv')\n",
        "df_chri_3500_test = pd.read_csv('/content/drive/Shared drives/ECE-692 Rinehart Investigators /Project 2/data/data_documents/Christie_3500_test.csv')\n",
        "df_doyl_3500_test = pd.read_csv('/content/drive/Shared drives/ECE-692 Rinehart Investigators /Project 2/data/data_documents/Doyle_3500_test.csv')"
      ],
      "execution_count": 39,
      "outputs": []
    },
    {
      "cell_type": "markdown",
      "metadata": {
        "id": "AcWKW87yyV2W"
      },
      "source": [
        "# Training MLP models"
      ]
    },
    {
      "cell_type": "code",
      "metadata": {
        "id": "XJskL3n3UrS2"
      },
      "source": [
        "def w2v(df, model, dim):\n",
        "  data_ls = []\n",
        "  for i in range(len(df)):\n",
        "    t = df.loc[i].values.tolist()\n",
        "    data = []\n",
        "    for x in t:\n",
        "      if x in list(model.wv.vocab.keys()):\n",
        "        kn = model[x].tolist()\n",
        "        data.append(kn)\n",
        "      else:\n",
        "        unk = [0]*dim\n",
        "        data.append(unk)\n",
        "    data_ls.append(list(map(lambda x: sum(x)/len(x), zip(*data))))\n",
        "  return data_ls"
      ],
      "execution_count": 40,
      "outputs": []
    },
    {
      "cell_type": "code",
      "metadata": {
        "id": "sNYha8KuSZiN"
      },
      "source": [
        "def training(df_train, df1, df2, model, dim):\n",
        "  df_train = df_train.append(df1, ignore_index=True)\n",
        "  df_train = df_train.append(df2, ignore_index=True)  \n",
        "  print(df_train.shape)\n",
        "\n",
        "  train_data = w2v(df_train, model, dim)\n",
        "  print(len(train_data))\n",
        "  df_tr = pd.DataFrame(train_data)\n",
        "  df_tr['author'] = df_train['Label'].values.tolist()\n",
        "\n",
        "  df_tr = df_tr.sample(frac=1).reset_index(drop=True)\n",
        "\n",
        "  y_train = df_tr['author']\n",
        "  x_train = df_tr.drop(['author'], axis=1)\n",
        "\n",
        "  for i, x in enumerate(y_train.tolist()):\n",
        "    if (x == 'christie' or x == 'rinehart'): \n",
        "      y_train[i] = 'other'\n",
        "\n",
        "  print(np.unique(y_train))\n",
        "  clf = MLPClassifier(hidden_layer_sizes=(50,50,50), max_iter=2000, alpha=0.0001,\n",
        "                    validation_fraction=0.1,\n",
        "                     solver='sgd', verbose=10,  random_state=2,tol=0.000000001)\n",
        "  clf.fit(x_train, y_train)\n",
        "\n",
        "  return clf"
      ],
      "execution_count": 41,
      "outputs": []
    },
    {
      "cell_type": "code",
      "metadata": {
        "id": "KdI_L_q_oIvo"
      },
      "source": [
        "# Path to save MLP models\n",
        "path = '/content/drive/My Drive/clf_doyle/'"
      ],
      "execution_count": 42,
      "outputs": []
    },
    {
      "cell_type": "markdown",
      "metadata": {
        "id": "MFVtb_Z1m219"
      },
      "source": [
        "## Train models with 50 dim embedding"
      ]
    },
    {
      "cell_type": "code",
      "metadata": {
        "id": "Ttl-5vFFm_ng"
      },
      "source": [
        "clf_350_50 = training(df_train, df_chri_350_train, df_doyl_350_train, doyle_w2v_sent_50, 50)\n",
        "filename = 'clf_350_50.sav'\n",
        "pickle.dump(clf_350_50, open(path+filename, 'wb'))"
      ],
      "execution_count": 25,
      "outputs": []
    },
    {
      "cell_type": "code",
      "metadata": {
        "id": "8E8aW9kenGTV"
      },
      "source": [
        "clf_1400_50 = training(df_train1, df_chri_1400_train,df_doyl_1400_train, doyle_w2v_sent_50, 50)\n",
        "filename = 'clf_1400_50.sav'\n",
        "pickle.dump(clf_1400_50, open(path+filename, 'wb'))"
      ],
      "execution_count": null,
      "outputs": []
    },
    {
      "cell_type": "code",
      "metadata": {
        "id": "SnYrxU1bnTre"
      },
      "source": [
        "clf_3500_50 = training(df_train2, df_chri_3500_train,df_doyl_3500_train, doyle_w2v_sent_50, 50)\n",
        "filename = 'clf_3500_50.sav'\n",
        "pickle.dump(clf_3500_50, open(path+filename, 'wb'))"
      ],
      "execution_count": null,
      "outputs": []
    },
    {
      "cell_type": "markdown",
      "metadata": {
        "id": "achWC3_nnPEK"
      },
      "source": [
        "## Train models with 300 dim embedding"
      ]
    },
    {
      "cell_type": "code",
      "metadata": {
        "id": "1ZrE8eNpZR4C",
        "outputId": "d63d38ac-78a3-46cb-a4a2-2f9fefff71ab",
        "colab": {
          "base_uri": "https://localhost:8080/"
        }
      },
      "source": [
        "clf_350_300 = training(df_train, df_chri_350_train, df_doyl_350_train, doyle_w2v_sent_300, 300)\n",
        "filename = 'clf_350_300.sav'\n",
        "pickle.dump(clf_350_300, open(path+filename, 'wb'))"
      ],
      "execution_count": 43,
      "outputs": [
        {
          "output_type": "stream",
          "text": [
            "(1420, 351)\n",
            "1420\n",
            "['doyle' 'other']\n",
            "Iteration 1, loss = 0.67335007\n",
            "Iteration 2, loss = 0.65670985\n",
            "Iteration 3, loss = 0.63636474\n",
            "Iteration 4, loss = 0.61735625\n",
            "Iteration 5, loss = 0.60148763\n",
            "Iteration 6, loss = 0.58999394\n",
            "Iteration 7, loss = 0.58069305\n",
            "Iteration 8, loss = 0.57368165\n",
            "Iteration 9, loss = 0.56872145\n",
            "Iteration 10, loss = 0.56493585\n",
            "Iteration 11, loss = 0.56250772\n",
            "Iteration 12, loss = 0.56064432\n",
            "Iteration 13, loss = 0.55953311\n",
            "Iteration 14, loss = 0.55860125\n",
            "Iteration 15, loss = 0.55786884\n",
            "Iteration 16, loss = 0.55733500\n",
            "Iteration 17, loss = 0.55693769\n",
            "Iteration 18, loss = 0.55670116\n",
            "Iteration 19, loss = 0.55650254\n",
            "Iteration 20, loss = 0.55627322\n",
            "Iteration 21, loss = 0.55615017\n",
            "Iteration 22, loss = 0.55600074\n",
            "Iteration 23, loss = 0.55581628\n",
            "Iteration 24, loss = 0.55554446\n",
            "Iteration 25, loss = 0.55536133\n",
            "Iteration 26, loss = 0.55515023\n",
            "Iteration 27, loss = 0.55500068\n",
            "Iteration 28, loss = 0.55487773\n",
            "Iteration 29, loss = 0.55468143\n",
            "Iteration 30, loss = 0.55464300\n",
            "Iteration 31, loss = 0.55450939\n",
            "Iteration 32, loss = 0.55436486\n",
            "Iteration 33, loss = 0.55425090\n",
            "Iteration 34, loss = 0.55412138\n",
            "Iteration 35, loss = 0.55402544\n",
            "Iteration 36, loss = 0.55389848\n",
            "Iteration 37, loss = 0.55378547\n",
            "Iteration 38, loss = 0.55372181\n",
            "Iteration 39, loss = 0.55356698\n",
            "Iteration 40, loss = 0.55344587\n",
            "Iteration 41, loss = 0.55333431\n",
            "Iteration 42, loss = 0.55327334\n",
            "Iteration 43, loss = 0.55317569\n",
            "Iteration 44, loss = 0.55311031\n",
            "Iteration 45, loss = 0.55307608\n",
            "Iteration 46, loss = 0.55292861\n",
            "Iteration 47, loss = 0.55282085\n",
            "Iteration 48, loss = 0.55268672\n",
            "Iteration 49, loss = 0.55257572\n",
            "Iteration 50, loss = 0.55240836\n",
            "Iteration 51, loss = 0.55225678\n",
            "Iteration 52, loss = 0.55214008\n",
            "Iteration 53, loss = 0.55201257\n",
            "Iteration 54, loss = 0.55191589\n",
            "Iteration 55, loss = 0.55183694\n",
            "Iteration 56, loss = 0.55170365\n",
            "Iteration 57, loss = 0.55161826\n",
            "Iteration 58, loss = 0.55151474\n",
            "Iteration 59, loss = 0.55140522\n",
            "Iteration 60, loss = 0.55127660\n",
            "Iteration 61, loss = 0.55116099\n",
            "Iteration 62, loss = 0.55102795\n",
            "Iteration 63, loss = 0.55091478\n",
            "Iteration 64, loss = 0.55076734\n",
            "Iteration 65, loss = 0.55064620\n",
            "Iteration 66, loss = 0.55045951\n",
            "Iteration 67, loss = 0.55030391\n",
            "Iteration 68, loss = 0.55017544\n",
            "Iteration 69, loss = 0.55004004\n",
            "Iteration 70, loss = 0.54990482\n",
            "Iteration 71, loss = 0.54979163\n",
            "Iteration 72, loss = 0.54966557\n",
            "Iteration 73, loss = 0.54949704\n",
            "Iteration 74, loss = 0.54935987\n",
            "Iteration 75, loss = 0.54922543\n",
            "Iteration 76, loss = 0.54909578\n",
            "Iteration 77, loss = 0.54895967\n",
            "Iteration 78, loss = 0.54882503\n",
            "Iteration 79, loss = 0.54869377\n",
            "Iteration 80, loss = 0.54854656\n",
            "Iteration 81, loss = 0.54834127\n",
            "Iteration 82, loss = 0.54825306\n",
            "Iteration 83, loss = 0.54814978\n",
            "Iteration 84, loss = 0.54799742\n",
            "Iteration 85, loss = 0.54786378\n",
            "Iteration 86, loss = 0.54767972\n",
            "Iteration 87, loss = 0.54751296\n",
            "Iteration 88, loss = 0.54737999\n",
            "Iteration 89, loss = 0.54721466\n",
            "Iteration 90, loss = 0.54714607\n",
            "Iteration 91, loss = 0.54699312\n",
            "Iteration 92, loss = 0.54684592\n",
            "Iteration 93, loss = 0.54663672\n",
            "Iteration 94, loss = 0.54655019\n",
            "Iteration 95, loss = 0.54635565\n",
            "Iteration 96, loss = 0.54618810\n",
            "Iteration 97, loss = 0.54604202\n",
            "Iteration 98, loss = 0.54586564\n",
            "Iteration 99, loss = 0.54583254\n",
            "Iteration 100, loss = 0.54561666\n",
            "Iteration 101, loss = 0.54539477\n",
            "Iteration 102, loss = 0.54523396\n",
            "Iteration 103, loss = 0.54505206\n",
            "Iteration 104, loss = 0.54495261\n",
            "Iteration 105, loss = 0.54476057\n",
            "Iteration 106, loss = 0.54459660\n",
            "Iteration 107, loss = 0.54443747\n",
            "Iteration 108, loss = 0.54432173\n",
            "Iteration 109, loss = 0.54410338\n",
            "Iteration 110, loss = 0.54392020\n",
            "Iteration 111, loss = 0.54382001\n",
            "Iteration 112, loss = 0.54359649\n",
            "Iteration 113, loss = 0.54343106\n",
            "Iteration 114, loss = 0.54323073\n",
            "Iteration 115, loss = 0.54301450\n",
            "Iteration 116, loss = 0.54289950\n",
            "Iteration 117, loss = 0.54270700\n",
            "Iteration 118, loss = 0.54249204\n",
            "Iteration 119, loss = 0.54230710\n",
            "Iteration 120, loss = 0.54212315\n",
            "Iteration 121, loss = 0.54194779\n",
            "Iteration 122, loss = 0.54174723\n",
            "Iteration 123, loss = 0.54156203\n",
            "Iteration 124, loss = 0.54133198\n",
            "Iteration 125, loss = 0.54119413\n",
            "Iteration 126, loss = 0.54101688\n",
            "Iteration 127, loss = 0.54081293\n",
            "Iteration 128, loss = 0.54058515\n",
            "Iteration 129, loss = 0.54036173\n",
            "Iteration 130, loss = 0.54027045\n",
            "Iteration 131, loss = 0.53997085\n",
            "Iteration 132, loss = 0.53974010\n",
            "Iteration 133, loss = 0.53957701\n",
            "Iteration 134, loss = 0.53929497\n",
            "Iteration 135, loss = 0.53912437\n",
            "Iteration 136, loss = 0.53897250\n",
            "Iteration 137, loss = 0.53872066\n",
            "Iteration 138, loss = 0.53849018\n",
            "Iteration 139, loss = 0.53826043\n",
            "Iteration 140, loss = 0.53805440\n",
            "Iteration 141, loss = 0.53774622\n",
            "Iteration 142, loss = 0.53754571\n",
            "Iteration 143, loss = 0.53730194\n",
            "Iteration 144, loss = 0.53706009\n",
            "Iteration 145, loss = 0.53683902\n",
            "Iteration 146, loss = 0.53657152\n",
            "Iteration 147, loss = 0.53631960\n",
            "Iteration 148, loss = 0.53605753\n",
            "Iteration 149, loss = 0.53587138\n",
            "Iteration 150, loss = 0.53574088\n",
            "Iteration 151, loss = 0.53534042\n",
            "Iteration 152, loss = 0.53508287\n",
            "Iteration 153, loss = 0.53493130\n",
            "Iteration 154, loss = 0.53462185\n",
            "Iteration 155, loss = 0.53436603\n",
            "Iteration 156, loss = 0.53427405\n",
            "Iteration 157, loss = 0.53437717\n",
            "Iteration 158, loss = 0.53397103\n",
            "Iteration 159, loss = 0.53358589\n",
            "Iteration 160, loss = 0.53310908\n",
            "Iteration 161, loss = 0.53263117\n",
            "Iteration 162, loss = 0.53235344\n",
            "Iteration 163, loss = 0.53209547\n",
            "Iteration 164, loss = 0.53179112\n",
            "Iteration 165, loss = 0.53152202\n",
            "Iteration 166, loss = 0.53117362\n",
            "Iteration 167, loss = 0.53092236\n",
            "Iteration 168, loss = 0.53065972\n",
            "Iteration 169, loss = 0.53027415\n",
            "Iteration 170, loss = 0.52990428\n",
            "Iteration 171, loss = 0.52962779\n",
            "Iteration 172, loss = 0.52921802\n",
            "Iteration 173, loss = 0.52894341\n",
            "Iteration 174, loss = 0.52862478\n",
            "Iteration 175, loss = 0.52826462\n",
            "Iteration 176, loss = 0.52786902\n",
            "Iteration 177, loss = 0.52753037\n",
            "Iteration 178, loss = 0.52718420\n",
            "Iteration 179, loss = 0.52683687\n",
            "Iteration 180, loss = 0.52658794\n",
            "Iteration 181, loss = 0.52615227\n",
            "Iteration 182, loss = 0.52584455\n",
            "Iteration 183, loss = 0.52544845\n",
            "Iteration 184, loss = 0.52508501\n",
            "Iteration 185, loss = 0.52471586\n",
            "Iteration 186, loss = 0.52433485\n",
            "Iteration 187, loss = 0.52395528\n",
            "Iteration 188, loss = 0.52353865\n",
            "Iteration 189, loss = 0.52314492\n",
            "Iteration 190, loss = 0.52270898\n",
            "Iteration 191, loss = 0.52231714\n",
            "Iteration 192, loss = 0.52190799\n",
            "Iteration 193, loss = 0.52150423\n",
            "Iteration 194, loss = 0.52103897\n",
            "Iteration 195, loss = 0.52060302\n",
            "Iteration 196, loss = 0.52014784\n",
            "Iteration 197, loss = 0.51973139\n",
            "Iteration 198, loss = 0.51937739\n",
            "Iteration 199, loss = 0.51896256\n",
            "Iteration 200, loss = 0.51844800\n",
            "Iteration 201, loss = 0.51805439\n",
            "Iteration 202, loss = 0.51752439\n",
            "Iteration 203, loss = 0.51706923\n",
            "Iteration 204, loss = 0.51661344\n",
            "Iteration 205, loss = 0.51611145\n",
            "Iteration 206, loss = 0.51566425\n",
            "Iteration 207, loss = 0.51520267\n",
            "Iteration 208, loss = 0.51470457\n",
            "Iteration 209, loss = 0.51418824\n",
            "Iteration 210, loss = 0.51372747\n",
            "Iteration 211, loss = 0.51319629\n",
            "Iteration 212, loss = 0.51269087\n",
            "Iteration 213, loss = 0.51220527\n",
            "Iteration 214, loss = 0.51163982\n",
            "Iteration 215, loss = 0.51113945\n",
            "Iteration 216, loss = 0.51054218\n",
            "Iteration 217, loss = 0.50994186\n",
            "Iteration 218, loss = 0.50941032\n",
            "Iteration 219, loss = 0.50883073\n",
            "Iteration 220, loss = 0.50851538\n",
            "Iteration 221, loss = 0.50815838\n",
            "Iteration 222, loss = 0.50723187\n",
            "Iteration 223, loss = 0.50666214\n",
            "Iteration 224, loss = 0.50623063\n",
            "Iteration 225, loss = 0.50541889\n",
            "Iteration 226, loss = 0.50479385\n",
            "Iteration 227, loss = 0.50424443\n",
            "Iteration 228, loss = 0.50374626\n",
            "Iteration 229, loss = 0.50301787\n",
            "Iteration 230, loss = 0.50237072\n",
            "Iteration 231, loss = 0.50192556\n",
            "Iteration 232, loss = 0.50110172\n",
            "Iteration 233, loss = 0.50040672\n",
            "Iteration 234, loss = 0.49977884\n",
            "Iteration 235, loss = 0.49919042\n",
            "Iteration 236, loss = 0.49852151\n",
            "Iteration 237, loss = 0.49780171\n",
            "Iteration 238, loss = 0.49718678\n",
            "Iteration 239, loss = 0.49661041\n",
            "Iteration 240, loss = 0.49590709\n",
            "Iteration 241, loss = 0.49515243\n",
            "Iteration 242, loss = 0.49448589\n",
            "Iteration 243, loss = 0.49383011\n",
            "Iteration 244, loss = 0.49309037\n",
            "Iteration 245, loss = 0.49243544\n",
            "Iteration 246, loss = 0.49164038\n",
            "Iteration 247, loss = 0.49091914\n",
            "Iteration 248, loss = 0.49022433\n",
            "Iteration 249, loss = 0.48953449\n",
            "Iteration 250, loss = 0.48876402\n",
            "Iteration 251, loss = 0.48800545\n",
            "Iteration 252, loss = 0.48730825\n",
            "Iteration 253, loss = 0.48649803\n",
            "Iteration 254, loss = 0.48584568\n",
            "Iteration 255, loss = 0.48497176\n",
            "Iteration 256, loss = 0.48431784\n",
            "Iteration 257, loss = 0.48331053\n",
            "Iteration 258, loss = 0.48263459\n",
            "Iteration 259, loss = 0.48187400\n",
            "Iteration 260, loss = 0.48119393\n",
            "Iteration 261, loss = 0.48030352\n",
            "Iteration 262, loss = 0.47950356\n",
            "Iteration 263, loss = 0.47887030\n",
            "Iteration 264, loss = 0.47814017\n",
            "Iteration 265, loss = 0.47717802\n",
            "Iteration 266, loss = 0.47639233\n",
            "Iteration 267, loss = 0.47567169\n",
            "Iteration 268, loss = 0.47472441\n",
            "Iteration 269, loss = 0.47387687\n",
            "Iteration 270, loss = 0.47314296\n",
            "Iteration 271, loss = 0.47234282\n",
            "Iteration 272, loss = 0.47153334\n",
            "Iteration 273, loss = 0.47071133\n",
            "Iteration 274, loss = 0.46971772\n",
            "Iteration 275, loss = 0.46878593\n",
            "Iteration 276, loss = 0.46783417\n",
            "Iteration 277, loss = 0.46699088\n",
            "Iteration 278, loss = 0.46604214\n",
            "Iteration 279, loss = 0.46528014\n",
            "Iteration 280, loss = 0.46431982\n",
            "Iteration 281, loss = 0.46373476\n",
            "Iteration 282, loss = 0.46345614\n",
            "Iteration 283, loss = 0.46200031\n",
            "Iteration 284, loss = 0.46083237\n",
            "Iteration 285, loss = 0.45966420\n",
            "Iteration 286, loss = 0.45877330\n",
            "Iteration 287, loss = 0.45771701\n",
            "Iteration 288, loss = 0.45675393\n",
            "Iteration 289, loss = 0.45577303\n",
            "Iteration 290, loss = 0.45474169\n",
            "Iteration 291, loss = 0.45387102\n",
            "Iteration 292, loss = 0.45307615\n",
            "Iteration 293, loss = 0.45226898\n",
            "Iteration 294, loss = 0.45092170\n",
            "Iteration 295, loss = 0.44982874\n",
            "Iteration 296, loss = 0.44894686\n",
            "Iteration 297, loss = 0.44801500\n",
            "Iteration 298, loss = 0.44724827\n",
            "Iteration 299, loss = 0.44621311\n",
            "Iteration 300, loss = 0.44521721\n",
            "Iteration 301, loss = 0.44434477\n",
            "Iteration 302, loss = 0.44347753\n",
            "Iteration 303, loss = 0.44266456\n",
            "Iteration 304, loss = 0.44172862\n",
            "Iteration 305, loss = 0.44082885\n",
            "Iteration 306, loss = 0.44018001\n",
            "Iteration 307, loss = 0.43947699\n",
            "Iteration 308, loss = 0.43832672\n",
            "Iteration 309, loss = 0.43719168\n",
            "Iteration 310, loss = 0.43632866\n",
            "Iteration 311, loss = 0.43585831\n",
            "Iteration 312, loss = 0.43459016\n",
            "Iteration 313, loss = 0.43364499\n",
            "Iteration 314, loss = 0.43289156\n",
            "Iteration 315, loss = 0.43223608\n",
            "Iteration 316, loss = 0.43134449\n",
            "Iteration 317, loss = 0.43062338\n",
            "Iteration 318, loss = 0.42973517\n",
            "Iteration 319, loss = 0.42882040\n",
            "Iteration 320, loss = 0.42807162\n",
            "Iteration 321, loss = 0.42725955\n",
            "Iteration 322, loss = 0.42655820\n",
            "Iteration 323, loss = 0.42580978\n",
            "Iteration 324, loss = 0.42503356\n",
            "Iteration 325, loss = 0.42422804\n",
            "Iteration 326, loss = 0.42334106\n",
            "Iteration 327, loss = 0.42265086\n",
            "Iteration 328, loss = 0.42169719\n",
            "Iteration 329, loss = 0.42136445\n",
            "Iteration 330, loss = 0.42055188\n",
            "Iteration 331, loss = 0.41959646\n",
            "Iteration 332, loss = 0.41890162\n",
            "Iteration 333, loss = 0.41840671\n",
            "Iteration 334, loss = 0.41780691\n",
            "Iteration 335, loss = 0.41710385\n",
            "Iteration 336, loss = 0.41628917\n",
            "Iteration 337, loss = 0.41543621\n",
            "Iteration 338, loss = 0.41472385\n",
            "Iteration 339, loss = 0.41406377\n",
            "Iteration 340, loss = 0.41352639\n",
            "Iteration 341, loss = 0.41266949\n",
            "Iteration 342, loss = 0.41214729\n",
            "Iteration 343, loss = 0.41137726\n",
            "Iteration 344, loss = 0.41220950\n",
            "Iteration 345, loss = 0.41016990\n",
            "Iteration 346, loss = 0.40974722\n",
            "Iteration 347, loss = 0.40899816\n",
            "Iteration 348, loss = 0.40817214\n",
            "Iteration 349, loss = 0.40754430\n",
            "Iteration 350, loss = 0.40672052\n",
            "Iteration 351, loss = 0.40627436\n",
            "Iteration 352, loss = 0.40556322\n",
            "Iteration 353, loss = 0.40490665\n",
            "Iteration 354, loss = 0.40455665\n",
            "Iteration 355, loss = 0.40379498\n",
            "Iteration 356, loss = 0.40315265\n",
            "Iteration 357, loss = 0.40255853\n",
            "Iteration 358, loss = 0.40204612\n",
            "Iteration 359, loss = 0.40220913\n",
            "Iteration 360, loss = 0.40080502\n",
            "Iteration 361, loss = 0.40046591\n",
            "Iteration 362, loss = 0.40020286\n",
            "Iteration 363, loss = 0.39944147\n",
            "Iteration 364, loss = 0.39852709\n",
            "Iteration 365, loss = 0.39829643\n",
            "Iteration 366, loss = 0.39788550\n",
            "Iteration 367, loss = 0.39728364\n",
            "Iteration 368, loss = 0.39670035\n",
            "Iteration 369, loss = 0.39577120\n",
            "Iteration 370, loss = 0.39534874\n",
            "Iteration 371, loss = 0.39457944\n",
            "Iteration 372, loss = 0.39419654\n",
            "Iteration 373, loss = 0.39340618\n",
            "Iteration 374, loss = 0.39391845\n",
            "Iteration 375, loss = 0.39317146\n",
            "Iteration 376, loss = 0.39197682\n",
            "Iteration 377, loss = 0.39158090\n",
            "Iteration 378, loss = 0.39076124\n",
            "Iteration 379, loss = 0.39086564\n",
            "Iteration 380, loss = 0.38983705\n",
            "Iteration 381, loss = 0.38952973\n",
            "Iteration 382, loss = 0.38906505\n",
            "Iteration 383, loss = 0.38808603\n",
            "Iteration 384, loss = 0.38804791\n",
            "Iteration 385, loss = 0.38733675\n",
            "Iteration 386, loss = 0.38781344\n",
            "Iteration 387, loss = 0.38583717\n",
            "Iteration 388, loss = 0.38651866\n",
            "Iteration 389, loss = 0.38571501\n",
            "Iteration 390, loss = 0.38544274\n",
            "Iteration 391, loss = 0.38429867\n",
            "Iteration 392, loss = 0.38394413\n",
            "Iteration 393, loss = 0.38375262\n",
            "Iteration 394, loss = 0.38285872\n",
            "Iteration 395, loss = 0.38227264\n",
            "Iteration 396, loss = 0.38205436\n",
            "Iteration 397, loss = 0.38167291\n",
            "Iteration 398, loss = 0.38095046\n",
            "Iteration 399, loss = 0.38046972\n",
            "Iteration 400, loss = 0.38137381\n",
            "Iteration 401, loss = 0.38023305\n",
            "Iteration 402, loss = 0.38058451\n",
            "Iteration 403, loss = 0.37813443\n",
            "Iteration 404, loss = 0.37963413\n",
            "Iteration 405, loss = 0.37842220\n",
            "Iteration 406, loss = 0.37739332\n",
            "Iteration 407, loss = 0.37668821\n",
            "Iteration 408, loss = 0.37636284\n",
            "Iteration 409, loss = 0.37572510\n",
            "Iteration 410, loss = 0.37537802\n",
            "Iteration 411, loss = 0.37548242\n",
            "Iteration 412, loss = 0.37418490\n",
            "Iteration 413, loss = 0.37406005\n",
            "Iteration 414, loss = 0.37382686\n",
            "Iteration 415, loss = 0.37318994\n",
            "Iteration 416, loss = 0.37342170\n",
            "Iteration 417, loss = 0.37271605\n",
            "Iteration 418, loss = 0.37185786\n",
            "Iteration 419, loss = 0.37223775\n",
            "Iteration 420, loss = 0.37199669\n",
            "Iteration 421, loss = 0.37149447\n",
            "Iteration 422, loss = 0.37078019\n",
            "Iteration 423, loss = 0.37056996\n",
            "Iteration 424, loss = 0.37053902\n",
            "Iteration 425, loss = 0.36957650\n",
            "Iteration 426, loss = 0.36914977\n",
            "Iteration 427, loss = 0.36819707\n",
            "Iteration 428, loss = 0.36816193\n",
            "Iteration 429, loss = 0.36814199\n",
            "Iteration 430, loss = 0.36747818\n",
            "Iteration 431, loss = 0.36656145\n",
            "Iteration 432, loss = 0.36633210\n",
            "Iteration 433, loss = 0.36603383\n",
            "Iteration 434, loss = 0.36563301\n",
            "Iteration 435, loss = 0.36497296\n",
            "Iteration 436, loss = 0.36457498\n",
            "Iteration 437, loss = 0.36440731\n",
            "Iteration 438, loss = 0.36428662\n",
            "Iteration 439, loss = 0.36363257\n",
            "Iteration 440, loss = 0.36349222\n",
            "Iteration 441, loss = 0.36395654\n",
            "Iteration 442, loss = 0.36253681\n",
            "Iteration 443, loss = 0.36230803\n",
            "Iteration 444, loss = 0.36176239\n",
            "Iteration 445, loss = 0.36145503\n",
            "Iteration 446, loss = 0.36140406\n",
            "Iteration 447, loss = 0.36092437\n",
            "Iteration 448, loss = 0.36036948\n",
            "Iteration 449, loss = 0.36075317\n",
            "Iteration 450, loss = 0.35948022\n",
            "Iteration 451, loss = 0.36139721\n",
            "Iteration 452, loss = 0.35878469\n",
            "Iteration 453, loss = 0.35940142\n",
            "Iteration 454, loss = 0.35807996\n",
            "Iteration 455, loss = 0.35811956\n",
            "Iteration 456, loss = 0.35740134\n",
            "Iteration 457, loss = 0.35718139\n",
            "Iteration 458, loss = 0.35654087\n",
            "Iteration 459, loss = 0.35574969\n",
            "Iteration 460, loss = 0.35616009\n",
            "Iteration 461, loss = 0.35447102\n",
            "Iteration 462, loss = 0.35568477\n",
            "Iteration 463, loss = 0.35434769\n",
            "Iteration 464, loss = 0.35408377\n",
            "Iteration 465, loss = 0.35413605\n",
            "Iteration 466, loss = 0.35366360\n",
            "Iteration 467, loss = 0.35285669\n",
            "Iteration 468, loss = 0.35367389\n",
            "Iteration 469, loss = 0.35253355\n",
            "Iteration 470, loss = 0.35217879\n",
            "Iteration 471, loss = 0.35132602\n",
            "Iteration 472, loss = 0.35218443\n",
            "Iteration 473, loss = 0.35066216\n",
            "Iteration 474, loss = 0.35034212\n",
            "Iteration 475, loss = 0.35031635\n",
            "Iteration 476, loss = 0.34956847\n",
            "Iteration 477, loss = 0.34909082\n",
            "Iteration 478, loss = 0.35103519\n",
            "Iteration 479, loss = 0.34838851\n",
            "Iteration 480, loss = 0.34815454\n",
            "Iteration 481, loss = 0.34768266\n",
            "Iteration 482, loss = 0.34760843\n",
            "Iteration 483, loss = 0.34866101\n",
            "Iteration 484, loss = 0.34978524\n",
            "Iteration 485, loss = 0.34874198\n",
            "Iteration 486, loss = 0.34563074\n",
            "Iteration 487, loss = 0.34762236\n",
            "Iteration 488, loss = 0.34534351\n",
            "Iteration 489, loss = 0.34511226\n",
            "Iteration 490, loss = 0.34464760\n",
            "Iteration 491, loss = 0.34435636\n",
            "Iteration 492, loss = 0.34377376\n",
            "Iteration 493, loss = 0.34360632\n",
            "Iteration 494, loss = 0.34351905\n",
            "Iteration 495, loss = 0.34301478\n",
            "Iteration 496, loss = 0.34498034\n",
            "Iteration 497, loss = 0.34281419\n",
            "Iteration 498, loss = 0.34172909\n",
            "Iteration 499, loss = 0.34139598\n",
            "Iteration 500, loss = 0.34092438\n",
            "Iteration 501, loss = 0.34339289\n",
            "Iteration 502, loss = 0.34132245\n",
            "Iteration 503, loss = 0.34199822\n",
            "Iteration 504, loss = 0.34015284\n",
            "Iteration 505, loss = 0.33971080\n",
            "Iteration 506, loss = 0.33948855\n",
            "Iteration 507, loss = 0.33854391\n",
            "Iteration 508, loss = 0.33995087\n",
            "Iteration 509, loss = 0.33796540\n",
            "Iteration 510, loss = 0.33801170\n",
            "Iteration 511, loss = 0.33739955\n",
            "Iteration 512, loss = 0.33720116\n",
            "Iteration 513, loss = 0.33757301\n",
            "Iteration 514, loss = 0.33802822\n",
            "Iteration 515, loss = 0.33648087\n",
            "Iteration 516, loss = 0.33650213\n",
            "Iteration 517, loss = 0.33558833\n",
            "Iteration 518, loss = 0.33508875\n",
            "Iteration 519, loss = 0.33474894\n",
            "Iteration 520, loss = 0.33465377\n",
            "Iteration 521, loss = 0.33504531\n",
            "Iteration 522, loss = 0.33388637\n",
            "Iteration 523, loss = 0.33353297\n",
            "Iteration 524, loss = 0.33332767\n",
            "Iteration 525, loss = 0.33281662\n",
            "Iteration 526, loss = 0.33239254\n",
            "Iteration 527, loss = 0.33186218\n",
            "Iteration 528, loss = 0.33195858\n",
            "Iteration 529, loss = 0.33112965\n",
            "Iteration 530, loss = 0.33111860\n",
            "Iteration 531, loss = 0.33052642\n",
            "Iteration 532, loss = 0.33050928\n",
            "Iteration 533, loss = 0.33137050\n",
            "Iteration 534, loss = 0.33055551\n",
            "Iteration 535, loss = 0.33024180\n",
            "Iteration 536, loss = 0.32915446\n",
            "Iteration 537, loss = 0.32909796\n",
            "Iteration 538, loss = 0.32898997\n",
            "Iteration 539, loss = 0.33068231\n",
            "Iteration 540, loss = 0.33003951\n",
            "Iteration 541, loss = 0.32818471\n",
            "Iteration 542, loss = 0.32894578\n",
            "Iteration 543, loss = 0.32654796\n",
            "Iteration 544, loss = 0.32697648\n",
            "Iteration 545, loss = 0.32636728\n",
            "Iteration 546, loss = 0.32793776\n",
            "Iteration 547, loss = 0.32547337\n",
            "Iteration 548, loss = 0.32485608\n",
            "Iteration 549, loss = 0.32478010\n",
            "Iteration 550, loss = 0.32418494\n",
            "Iteration 551, loss = 0.32405542\n",
            "Iteration 552, loss = 0.32417558\n",
            "Iteration 553, loss = 0.32329614\n",
            "Iteration 554, loss = 0.32332808\n",
            "Iteration 555, loss = 0.32271423\n",
            "Iteration 556, loss = 0.32613218\n",
            "Iteration 557, loss = 0.32338756\n",
            "Iteration 558, loss = 0.32270317\n",
            "Iteration 559, loss = 0.32146303\n",
            "Iteration 560, loss = 0.32334075\n",
            "Iteration 561, loss = 0.32051863\n",
            "Iteration 562, loss = 0.32055707\n",
            "Iteration 563, loss = 0.32050302\n",
            "Iteration 564, loss = 0.31950435\n",
            "Iteration 565, loss = 0.31978366\n",
            "Iteration 566, loss = 0.31910976\n",
            "Iteration 567, loss = 0.31904431\n",
            "Iteration 568, loss = 0.31833999\n",
            "Iteration 569, loss = 0.31836747\n",
            "Iteration 570, loss = 0.31947569\n",
            "Iteration 571, loss = 0.31813476\n",
            "Iteration 572, loss = 0.31701112\n",
            "Iteration 573, loss = 0.32112303\n",
            "Iteration 574, loss = 0.31748314\n",
            "Iteration 575, loss = 0.31801075\n",
            "Iteration 576, loss = 0.31660381\n",
            "Iteration 577, loss = 0.31771013\n",
            "Iteration 578, loss = 0.31576897\n",
            "Iteration 579, loss = 0.31526876\n",
            "Iteration 580, loss = 0.31473548\n",
            "Iteration 581, loss = 0.31515478\n",
            "Iteration 582, loss = 0.31416806\n",
            "Iteration 583, loss = 0.31529017\n",
            "Iteration 584, loss = 0.31342505\n",
            "Iteration 585, loss = 0.31299608\n",
            "Iteration 586, loss = 0.31464947\n",
            "Iteration 587, loss = 0.31285226\n",
            "Iteration 588, loss = 0.31227150\n",
            "Iteration 589, loss = 0.31191283\n",
            "Iteration 590, loss = 0.31309703\n",
            "Iteration 591, loss = 0.31161399\n",
            "Iteration 592, loss = 0.31090604\n",
            "Iteration 593, loss = 0.31117579\n",
            "Iteration 594, loss = 0.31128288\n",
            "Iteration 595, loss = 0.31098266\n",
            "Iteration 596, loss = 0.31356000\n",
            "Iteration 597, loss = 0.30972473\n",
            "Iteration 598, loss = 0.30941144\n",
            "Iteration 599, loss = 0.31035989\n",
            "Iteration 600, loss = 0.30912295\n",
            "Iteration 601, loss = 0.30814781\n",
            "Iteration 602, loss = 0.30856832\n",
            "Iteration 603, loss = 0.30796170\n",
            "Iteration 604, loss = 0.30795790\n",
            "Iteration 605, loss = 0.30932851\n",
            "Iteration 606, loss = 0.30810262\n",
            "Iteration 607, loss = 0.30700345\n",
            "Iteration 608, loss = 0.30621758\n",
            "Iteration 609, loss = 0.30732508\n",
            "Iteration 610, loss = 0.30577520\n",
            "Iteration 611, loss = 0.30609828\n",
            "Iteration 612, loss = 0.30676893\n",
            "Iteration 613, loss = 0.30504313\n",
            "Iteration 614, loss = 0.30574372\n",
            "Iteration 615, loss = 0.30394742\n",
            "Iteration 616, loss = 0.30390492\n",
            "Iteration 617, loss = 0.30340895\n",
            "Iteration 618, loss = 0.30504894\n",
            "Iteration 619, loss = 0.30490233\n",
            "Iteration 620, loss = 0.30320642\n",
            "Iteration 621, loss = 0.30236318\n",
            "Iteration 622, loss = 0.30209272\n",
            "Iteration 623, loss = 0.30189843\n",
            "Iteration 624, loss = 0.30316135\n",
            "Iteration 625, loss = 0.30201599\n",
            "Iteration 626, loss = 0.30139428\n",
            "Iteration 627, loss = 0.30161989\n",
            "Iteration 628, loss = 0.30063997\n",
            "Iteration 629, loss = 0.30026509\n",
            "Iteration 630, loss = 0.29995230\n",
            "Iteration 631, loss = 0.30265010\n",
            "Iteration 632, loss = 0.30252066\n",
            "Iteration 633, loss = 0.30061190\n",
            "Iteration 634, loss = 0.29799491\n",
            "Iteration 635, loss = 0.29805451\n",
            "Iteration 636, loss = 0.30070764\n",
            "Iteration 637, loss = 0.30263827\n",
            "Iteration 638, loss = 0.29711731\n",
            "Iteration 639, loss = 0.29828442\n",
            "Iteration 640, loss = 0.29743383\n",
            "Iteration 641, loss = 0.30006644\n",
            "Iteration 642, loss = 0.29585737\n",
            "Iteration 643, loss = 0.29604404\n",
            "Iteration 644, loss = 0.29763230\n",
            "Iteration 645, loss = 0.29596166\n",
            "Iteration 646, loss = 0.30034244\n",
            "Iteration 647, loss = 0.29604345\n",
            "Iteration 648, loss = 0.29607996\n",
            "Iteration 649, loss = 0.29437220\n",
            "Iteration 650, loss = 0.29856127\n",
            "Iteration 651, loss = 0.29391676\n",
            "Iteration 652, loss = 0.29374900\n",
            "Iteration 653, loss = 0.29343636\n",
            "Iteration 654, loss = 0.29359633\n",
            "Iteration 655, loss = 0.29199236\n",
            "Iteration 656, loss = 0.29618500\n",
            "Iteration 657, loss = 0.29347827\n",
            "Iteration 658, loss = 0.29081916\n",
            "Iteration 659, loss = 0.29210950\n",
            "Iteration 660, loss = 0.29224795\n",
            "Iteration 661, loss = 0.29106115\n",
            "Iteration 662, loss = 0.28995669\n",
            "Iteration 663, loss = 0.29123528\n",
            "Iteration 664, loss = 0.29215805\n",
            "Iteration 665, loss = 0.28999979\n",
            "Iteration 666, loss = 0.28990852\n",
            "Iteration 667, loss = 0.29129770\n",
            "Iteration 668, loss = 0.28837248\n",
            "Iteration 669, loss = 0.28853703\n",
            "Iteration 670, loss = 0.28799880\n",
            "Iteration 671, loss = 0.28777833\n",
            "Iteration 672, loss = 0.28822189\n",
            "Iteration 673, loss = 0.28874171\n",
            "Iteration 674, loss = 0.28785890\n",
            "Iteration 675, loss = 0.28649559\n",
            "Iteration 676, loss = 0.28862393\n",
            "Iteration 677, loss = 0.28588650\n",
            "Iteration 678, loss = 0.28621664\n",
            "Iteration 679, loss = 0.28552574\n",
            "Iteration 680, loss = 0.28460721\n",
            "Iteration 681, loss = 0.28430498\n",
            "Iteration 682, loss = 0.28617859\n",
            "Iteration 683, loss = 0.28405096\n",
            "Iteration 684, loss = 0.28428968\n",
            "Iteration 685, loss = 0.28459063\n",
            "Iteration 686, loss = 0.28295410\n",
            "Iteration 687, loss = 0.28372226\n",
            "Iteration 688, loss = 0.28364725\n",
            "Iteration 689, loss = 0.28314613\n",
            "Iteration 690, loss = 0.28698590\n",
            "Iteration 691, loss = 0.28381882\n",
            "Iteration 692, loss = 0.28162590\n",
            "Iteration 693, loss = 0.28498644\n",
            "Iteration 694, loss = 0.28198831\n",
            "Iteration 695, loss = 0.28056140\n",
            "Iteration 696, loss = 0.28173358\n",
            "Iteration 697, loss = 0.28052346\n",
            "Iteration 698, loss = 0.27952550\n",
            "Iteration 699, loss = 0.28162644\n",
            "Iteration 700, loss = 0.28590537\n",
            "Iteration 701, loss = 0.27835094\n",
            "Iteration 702, loss = 0.27886019\n",
            "Iteration 703, loss = 0.27822493\n",
            "Iteration 704, loss = 0.27771108\n",
            "Iteration 705, loss = 0.27757206\n",
            "Iteration 706, loss = 0.27821671\n",
            "Iteration 707, loss = 0.27864456\n",
            "Iteration 708, loss = 0.27703854\n",
            "Iteration 709, loss = 0.27631799\n",
            "Iteration 710, loss = 0.27779502\n",
            "Iteration 711, loss = 0.27585456\n",
            "Iteration 712, loss = 0.27634117\n",
            "Iteration 713, loss = 0.27563346\n",
            "Iteration 714, loss = 0.27550625\n",
            "Iteration 715, loss = 0.27455063\n",
            "Iteration 716, loss = 0.27493315\n",
            "Iteration 717, loss = 0.27390813\n",
            "Iteration 718, loss = 0.27365367\n",
            "Iteration 719, loss = 0.27346908\n",
            "Iteration 720, loss = 0.27333948\n",
            "Iteration 721, loss = 0.27296917\n",
            "Iteration 722, loss = 0.27287173\n",
            "Iteration 723, loss = 0.27324824\n",
            "Iteration 724, loss = 0.27429782\n",
            "Iteration 725, loss = 0.27422595\n",
            "Iteration 726, loss = 0.27165439\n",
            "Iteration 727, loss = 0.27209229\n",
            "Iteration 728, loss = 0.27412265\n",
            "Iteration 729, loss = 0.27335008\n",
            "Iteration 730, loss = 0.27159743\n",
            "Iteration 731, loss = 0.27017836\n",
            "Iteration 732, loss = 0.27062439\n",
            "Iteration 733, loss = 0.27055246\n",
            "Iteration 734, loss = 0.27052050\n",
            "Iteration 735, loss = 0.27114581\n",
            "Iteration 736, loss = 0.26882741\n",
            "Iteration 737, loss = 0.27200241\n",
            "Iteration 738, loss = 0.27018952\n",
            "Iteration 739, loss = 0.26816194\n",
            "Iteration 740, loss = 0.27126755\n",
            "Iteration 741, loss = 0.26910484\n",
            "Iteration 742, loss = 0.27003850\n",
            "Iteration 743, loss = 0.27401190\n",
            "Iteration 744, loss = 0.26695436\n",
            "Iteration 745, loss = 0.26708887\n",
            "Iteration 746, loss = 0.26632454\n",
            "Iteration 747, loss = 0.26674387\n",
            "Iteration 748, loss = 0.26580576\n",
            "Iteration 749, loss = 0.26615895\n",
            "Iteration 750, loss = 0.26627077\n",
            "Iteration 751, loss = 0.27189144\n",
            "Iteration 752, loss = 0.26483050\n",
            "Iteration 753, loss = 0.26514560\n",
            "Iteration 754, loss = 0.26427718\n",
            "Iteration 755, loss = 0.26382853\n",
            "Iteration 756, loss = 0.26795971\n",
            "Iteration 757, loss = 0.26346716\n",
            "Iteration 758, loss = 0.26378236\n",
            "Iteration 759, loss = 0.26250631\n",
            "Iteration 760, loss = 0.26231403\n",
            "Iteration 761, loss = 0.26220307\n",
            "Iteration 762, loss = 0.26275717\n",
            "Iteration 763, loss = 0.26157492\n",
            "Iteration 764, loss = 0.26366087\n",
            "Iteration 765, loss = 0.26180764\n",
            "Iteration 766, loss = 0.26230819\n",
            "Iteration 767, loss = 0.26024354\n",
            "Iteration 768, loss = 0.26028562\n",
            "Iteration 769, loss = 0.26042563\n",
            "Iteration 770, loss = 0.26000751\n",
            "Iteration 771, loss = 0.25913398\n",
            "Iteration 772, loss = 0.26332278\n",
            "Iteration 773, loss = 0.26111552\n",
            "Iteration 774, loss = 0.25865911\n",
            "Iteration 775, loss = 0.25947013\n",
            "Iteration 776, loss = 0.25853162\n",
            "Iteration 777, loss = 0.26131152\n",
            "Iteration 778, loss = 0.25771258\n",
            "Iteration 779, loss = 0.25717479\n",
            "Iteration 780, loss = 0.25790505\n",
            "Iteration 781, loss = 0.25708288\n",
            "Iteration 782, loss = 0.25735679\n",
            "Iteration 783, loss = 0.25912932\n",
            "Iteration 784, loss = 0.25696183\n",
            "Iteration 785, loss = 0.25804223\n",
            "Iteration 786, loss = 0.25579689\n",
            "Iteration 787, loss = 0.25712199\n",
            "Iteration 788, loss = 0.25531232\n",
            "Iteration 789, loss = 0.25493721\n",
            "Iteration 790, loss = 0.25470274\n",
            "Iteration 791, loss = 0.25377773\n",
            "Iteration 792, loss = 0.25577844\n",
            "Iteration 793, loss = 0.25332237\n",
            "Iteration 794, loss = 0.25346680\n",
            "Iteration 795, loss = 0.25442430\n",
            "Iteration 796, loss = 0.25545428\n",
            "Iteration 797, loss = 0.25284303\n",
            "Iteration 798, loss = 0.25382234\n",
            "Iteration 799, loss = 0.25226190\n",
            "Iteration 800, loss = 0.25150595\n",
            "Iteration 801, loss = 0.25351188\n",
            "Iteration 802, loss = 0.25295571\n",
            "Iteration 803, loss = 0.25475822\n",
            "Iteration 804, loss = 0.25065821\n",
            "Iteration 805, loss = 0.25063169\n",
            "Iteration 806, loss = 0.25294039\n",
            "Iteration 807, loss = 0.25319721\n",
            "Iteration 808, loss = 0.25533068\n",
            "Iteration 809, loss = 0.25092832\n",
            "Iteration 810, loss = 0.25112211\n",
            "Iteration 811, loss = 0.25105217\n",
            "Iteration 812, loss = 0.25064003\n",
            "Iteration 813, loss = 0.25131911\n",
            "Iteration 814, loss = 0.24936639\n",
            "Iteration 815, loss = 0.24978896\n",
            "Iteration 816, loss = 0.25324035\n",
            "Iteration 817, loss = 0.25183397\n",
            "Iteration 818, loss = 0.24911288\n",
            "Iteration 819, loss = 0.24776548\n",
            "Iteration 820, loss = 0.24708381\n",
            "Iteration 821, loss = 0.24689361\n",
            "Iteration 822, loss = 0.24668699\n",
            "Iteration 823, loss = 0.24897066\n",
            "Iteration 824, loss = 0.24612838\n",
            "Iteration 825, loss = 0.24582157\n",
            "Iteration 826, loss = 0.24738312\n",
            "Iteration 827, loss = 0.24578927\n",
            "Iteration 828, loss = 0.24511778\n",
            "Iteration 829, loss = 0.24511651\n",
            "Iteration 830, loss = 0.24518723\n",
            "Iteration 831, loss = 0.24483714\n",
            "Iteration 832, loss = 0.25045827\n",
            "Iteration 833, loss = 0.24551082\n",
            "Iteration 834, loss = 0.24371164\n",
            "Iteration 835, loss = 0.24581850\n",
            "Iteration 836, loss = 0.24490802\n",
            "Iteration 837, loss = 0.24262087\n",
            "Iteration 838, loss = 0.24299194\n",
            "Iteration 839, loss = 0.24201135\n",
            "Iteration 840, loss = 0.24201505\n",
            "Iteration 841, loss = 0.24220906\n",
            "Iteration 842, loss = 0.24703516\n",
            "Iteration 843, loss = 0.24156656\n",
            "Iteration 844, loss = 0.24810140\n",
            "Iteration 845, loss = 0.24092347\n",
            "Iteration 846, loss = 0.24075434\n",
            "Iteration 847, loss = 0.24083014\n",
            "Iteration 848, loss = 0.24338654\n",
            "Iteration 849, loss = 0.24075209\n",
            "Iteration 850, loss = 0.24001306\n",
            "Iteration 851, loss = 0.24285155\n",
            "Iteration 852, loss = 0.24025693\n",
            "Iteration 853, loss = 0.23862462\n",
            "Iteration 854, loss = 0.24112862\n",
            "Iteration 855, loss = 0.23901374\n",
            "Iteration 856, loss = 0.23940014\n",
            "Iteration 857, loss = 0.23799495\n",
            "Iteration 858, loss = 0.23993962\n",
            "Iteration 859, loss = 0.23887773\n",
            "Iteration 860, loss = 0.23816796\n",
            "Iteration 861, loss = 0.23943615\n",
            "Iteration 862, loss = 0.23790453\n",
            "Iteration 863, loss = 0.23924944\n",
            "Iteration 864, loss = 0.23675970\n",
            "Iteration 865, loss = 0.24383006\n",
            "Iteration 866, loss = 0.23716219\n",
            "Iteration 867, loss = 0.24049888\n",
            "Iteration 868, loss = 0.23719269\n",
            "Iteration 869, loss = 0.24146849\n",
            "Iteration 870, loss = 0.23536254\n",
            "Iteration 871, loss = 0.23588617\n",
            "Iteration 872, loss = 0.23540604\n",
            "Iteration 873, loss = 0.23541323\n",
            "Iteration 874, loss = 0.23419169\n",
            "Iteration 875, loss = 0.23414983\n",
            "Iteration 876, loss = 0.23492102\n",
            "Iteration 877, loss = 0.23482423\n",
            "Iteration 878, loss = 0.23634726\n",
            "Iteration 879, loss = 0.24100403\n",
            "Iteration 880, loss = 0.23347470\n",
            "Iteration 881, loss = 0.23338314\n",
            "Iteration 882, loss = 0.23291662\n",
            "Iteration 883, loss = 0.23369860\n",
            "Iteration 884, loss = 0.23322878\n",
            "Iteration 885, loss = 0.23193486\n",
            "Iteration 886, loss = 0.23358837\n",
            "Iteration 887, loss = 0.23220210\n",
            "Iteration 888, loss = 0.23107277\n",
            "Iteration 889, loss = 0.23216383\n",
            "Iteration 890, loss = 0.23174223\n",
            "Iteration 891, loss = 0.23307169\n",
            "Iteration 892, loss = 0.23162257\n",
            "Iteration 893, loss = 0.23020552\n",
            "Iteration 894, loss = 0.23010004\n",
            "Iteration 895, loss = 0.23179287\n",
            "Iteration 896, loss = 0.23404611\n",
            "Iteration 897, loss = 0.22977197\n",
            "Iteration 898, loss = 0.22976453\n",
            "Iteration 899, loss = 0.23011228\n",
            "Iteration 900, loss = 0.22839734\n",
            "Iteration 901, loss = 0.22854014\n",
            "Iteration 902, loss = 0.22924297\n",
            "Iteration 903, loss = 0.22954417\n",
            "Iteration 904, loss = 0.22774473\n",
            "Iteration 905, loss = 0.22772524\n",
            "Iteration 906, loss = 0.22960863\n",
            "Iteration 907, loss = 0.22695358\n",
            "Iteration 908, loss = 0.22832158\n",
            "Iteration 909, loss = 0.22740627\n",
            "Iteration 910, loss = 0.22792463\n",
            "Iteration 911, loss = 0.22757338\n",
            "Iteration 912, loss = 0.22666384\n",
            "Iteration 913, loss = 0.22565321\n",
            "Iteration 914, loss = 0.22629208\n",
            "Iteration 915, loss = 0.22665529\n",
            "Iteration 916, loss = 0.22544165\n",
            "Iteration 917, loss = 0.22575713\n",
            "Iteration 918, loss = 0.22619609\n",
            "Iteration 919, loss = 0.22800697\n",
            "Iteration 920, loss = 0.22764672\n",
            "Iteration 921, loss = 0.22844712\n",
            "Iteration 922, loss = 0.22562168\n",
            "Iteration 923, loss = 0.22626396\n",
            "Iteration 924, loss = 0.22460506\n",
            "Iteration 925, loss = 0.22608836\n",
            "Iteration 926, loss = 0.22395572\n",
            "Iteration 927, loss = 0.22325393\n",
            "Iteration 928, loss = 0.22430696\n",
            "Iteration 929, loss = 0.22479938\n",
            "Iteration 930, loss = 0.22291789\n",
            "Iteration 931, loss = 0.22190960\n",
            "Iteration 932, loss = 0.22406698\n",
            "Iteration 933, loss = 0.22996380\n",
            "Iteration 934, loss = 0.22409417\n",
            "Iteration 935, loss = 0.22125077\n",
            "Iteration 936, loss = 0.22150137\n",
            "Iteration 937, loss = 0.22256909\n",
            "Iteration 938, loss = 0.22187212\n",
            "Iteration 939, loss = 0.22097464\n",
            "Iteration 940, loss = 0.22315263\n",
            "Iteration 941, loss = 0.22093957\n",
            "Iteration 942, loss = 0.22244183\n",
            "Iteration 943, loss = 0.22019286\n",
            "Iteration 944, loss = 0.22092794\n",
            "Iteration 945, loss = 0.22064093\n",
            "Iteration 946, loss = 0.22175603\n",
            "Iteration 947, loss = 0.21959864\n",
            "Iteration 948, loss = 0.22201988\n",
            "Iteration 949, loss = 0.22101358\n",
            "Iteration 950, loss = 0.21930378\n",
            "Iteration 951, loss = 0.21938656\n",
            "Iteration 952, loss = 0.21836484\n",
            "Iteration 953, loss = 0.21766999\n",
            "Iteration 954, loss = 0.21735892\n",
            "Iteration 955, loss = 0.21789983\n",
            "Iteration 956, loss = 0.22087634\n",
            "Iteration 957, loss = 0.21774728\n",
            "Iteration 958, loss = 0.21764234\n",
            "Iteration 959, loss = 0.21932997\n",
            "Iteration 960, loss = 0.21608531\n",
            "Iteration 961, loss = 0.21613182\n",
            "Iteration 962, loss = 0.22031590\n",
            "Iteration 963, loss = 0.22651967\n",
            "Iteration 964, loss = 0.21656042\n",
            "Iteration 965, loss = 0.21507631\n",
            "Iteration 966, loss = 0.21526354\n",
            "Iteration 967, loss = 0.21481133\n",
            "Iteration 968, loss = 0.21579526\n",
            "Iteration 969, loss = 0.21834570\n",
            "Iteration 970, loss = 0.21748693\n",
            "Iteration 971, loss = 0.21760758\n",
            "Iteration 972, loss = 0.21559607\n",
            "Iteration 973, loss = 0.21710998\n",
            "Iteration 974, loss = 0.21909249\n",
            "Iteration 975, loss = 0.21795772\n",
            "Iteration 976, loss = 0.21523082\n",
            "Iteration 977, loss = 0.21788723\n",
            "Iteration 978, loss = 0.21634583\n",
            "Training loss did not improve more than tol=0.000000 for 10 consecutive epochs. Stopping.\n"
          ],
          "name": "stdout"
        }
      ]
    },
    {
      "cell_type": "code",
      "metadata": {
        "id": "KbsKgYvHZSyj"
      },
      "source": [
        "clf_1400_300 = training(df_train1, df_chri_1400_train,df_doyl_1400_train, doyle_w2v_sent_300, 300)\n",
        "filename = 'clf_1400_300.sav'\n",
        "pickle.dump(clf_1400_300, open(path+filename, 'wb'))"
      ],
      "execution_count": null,
      "outputs": []
    },
    {
      "cell_type": "code",
      "metadata": {
        "id": "GEoEcUHCZTKg"
      },
      "source": [
        "clf_3500_300 = training(df_train2, df_chri_3500_train,df_doyl_3500_train, doyle_w2v_sent_300, 300)\n",
        "filename = 'clf_3500_300.sav'\n",
        "pickle.dump(clf_3500_300, open(path+filename, 'wb'))"
      ],
      "execution_count": null,
      "outputs": []
    },
    {
      "cell_type": "markdown",
      "metadata": {
        "id": "84_dus30ypZy"
      },
      "source": [
        "# Testing MLP models"
      ]
    },
    {
      "cell_type": "code",
      "metadata": {
        "id": "LqrRnl7KfTAL"
      },
      "source": [
        "import warnings\n",
        "warnings.filterwarnings(\"ignore\")"
      ],
      "execution_count": 44,
      "outputs": []
    },
    {
      "cell_type": "code",
      "metadata": {
        "id": "b1yyweL84j0k"
      },
      "source": [
        "def plot_confusion_matrix(cm,\n",
        "                          target_names,\n",
        "                          title,\n",
        "                          cmap=None,\n",
        "                          normalize=True):\n",
        "    accuracy = np.trace(cm) / float(np.sum(cm))\n",
        "    misclass = 1 - accuracy\n",
        "\n",
        "    if cmap is None:\n",
        "        cmap = plt.get_cmap('Blues')\n",
        "\n",
        "    plt.figure(figsize=(8, 6))\n",
        "    plt.imshow(cm, interpolation='nearest', cmap=cmap)\n",
        "    plt.title(title)\n",
        "    plt.colorbar()\n",
        "\n",
        "    if target_names is not None:\n",
        "        tick_marks = np.arange(len(target_names))\n",
        "        plt.xticks(tick_marks, target_names, rotation=45)\n",
        "        plt.yticks(tick_marks, target_names)\n",
        "\n",
        "    if normalize:\n",
        "        cm = cm.astype('float') / cm.sum(axis=1)[:, np.newaxis]\n",
        "\n",
        "\n",
        "    thresh = cm.max() / 1.5 if normalize else cm.max() / 2\n",
        "    for i, j in itertools.product(range(cm.shape[0]), range(cm.shape[1])):\n",
        "        if normalize:\n",
        "            plt.text(j, i, \"{:0.4f}\".format(cm[i, j]),\n",
        "                     horizontalalignment=\"center\",\n",
        "                     color=\"white\" if cm[i, j] > thresh else \"black\")\n",
        "        else:\n",
        "            plt.text(j, i, \"{:,}\".format(cm[i, j]),\n",
        "                     horizontalalignment=\"center\",\n",
        "                     color=\"white\" if cm[i, j] > thresh else \"black\")\n",
        "\n",
        "\n",
        "    plt.tight_layout()\n",
        "    plt.ylabel('True label')\n",
        "    plt.xlabel('Predicted label\\naccuracy={:0.4f}; misclass={:0.4f}'.format(accuracy, misclass))\n",
        "    plt.show()"
      ],
      "execution_count": 45,
      "outputs": []
    },
    {
      "cell_type": "code",
      "metadata": {
        "id": "bIE3CCiXTfsJ"
      },
      "source": [
        "def testing(df_test, df1, df2, model, clf, dim):\n",
        "  df_test = df_test.append(df1, ignore_index=True)\n",
        "  df_test = df_test.append(df2, ignore_index=True)  \n",
        "  test_data = w2v(df_test, model,dim)\n",
        "\n",
        "  df_te = pd.DataFrame(test_data)\n",
        "  df_te['author'] = df_test['Label'].values.tolist()\n",
        "\n",
        "  df_te = df_te.sample(frac=1).reset_index(drop=True)\n",
        "\n",
        "  y_test = df_te['author']\n",
        "  x_test = df_te.drop(['author'], axis=1)\n",
        "\n",
        "  for i, x in enumerate(y_test.tolist()):\n",
        "    if (x == 'christie' or x == 'rinehart'): \n",
        "      y_test[i] = 'other'\n",
        "\n",
        "  y_pred = clf.predict(x_test)\n",
        "  print('Test Accuracy: ', accuracy_score(y_test, y_pred))\n",
        "  cm = confusion_matrix(y_test, y_pred)\n",
        "  print('F1 Score: ', f1_score(y_test, y_pred, average='micro'))\n",
        "  plot_confusion_matrix(cm,\n",
        "                      normalize    = False,\n",
        "                      target_names = ['Others', 'Doyle'],\n",
        "                      title        = \"Confusion Matrix\")\n",
        "\n",
        "  return y_test, y_pred"
      ],
      "execution_count": 46,
      "outputs": []
    },
    {
      "cell_type": "code",
      "metadata": {
        "id": "6YSkdH_cpu6K"
      },
      "source": [
        "# Path from where to load MLP models\n",
        "path = '/content/drive/My Drive/clf_doyle/'"
      ],
      "execution_count": 48,
      "outputs": []
    },
    {
      "cell_type": "markdown",
      "metadata": {
        "id": "NQjm_eyrp4zy"
      },
      "source": [
        "## Testing with 50 dim embedding"
      ]
    },
    {
      "cell_type": "code",
      "metadata": {
        "id": "CRgv2zrxU1OI",
        "outputId": "935acac5-fb3f-40bd-9b5c-f5d9e6fb9e95",
        "colab": {
          "base_uri": "https://localhost:8080/",
          "height": 504
        }
      },
      "source": [
        "#filename = 'clf_350_50.sav'\n",
        "#clf_350_50 = pickle.load(open(path+filename, 'rb'))\n",
        "y_test_350_50, y_pred_350_50 = testing(df_test, df_chri_350_test, df_doyl_350_test, doyle_w2v_sent_50, clf_350_50, 50)"
      ],
      "execution_count": 49,
      "outputs": [
        {
          "output_type": "stream",
          "text": [
            "Test Accuracy:  0.8381742738589212\n",
            "F1 Score:  0.8381742738589212\n"
          ],
          "name": "stdout"
        },
        {
          "output_type": "display_data",
          "data": {
            "image/png": "[encoded data removed]",
            "text/plain": [
              "<Figure size 576x432 with 2 Axes>"
            ]
          },
          "metadata": {
            "tags": []
          }
        }
      ]
    },
    {
      "cell_type": "code",
      "metadata": {
        "id": "msvDdrG3qO0j"
      },
      "source": [
        "#filename = 'clf_1400_50.sav'\n",
        "#clf_1400_50 = pickle.load(open(path+filename, 'rb'))\n",
        "y_test_1400_50, y_pred_1400_50 = testing(df_test1, df_chri_1400_test, df_doyl_1400_test, doyle_w2v_sent_50, clf_1400_50, 50)"
      ],
      "execution_count": null,
      "outputs": []
    },
    {
      "cell_type": "code",
      "metadata": {
        "id": "Bu8kplV5qk8J"
      },
      "source": [
        "#filename = 'clf_3500_50.sav'\n",
        "#clf_3500_50 = pickle.load(open(path+filename, 'rb'))\n",
        "y_test_3500_50, y_pred_3500_50 = testing(df_test2, df_chri_3500_test, df_doyl_3500_test, doyle_w2v_sent_50, clf_3500_50, 50)"
      ],
      "execution_count": null,
      "outputs": []
    },
    {
      "cell_type": "markdown",
      "metadata": {
        "id": "FgiwnE2Sq9UL"
      },
      "source": [
        "## Testing with 300 dim embedding"
      ]
    },
    {
      "cell_type": "code",
      "metadata": {
        "id": "JNRCcb1dU1Tc",
        "outputId": "7acc5f4d-c67a-4420-b5f5-67eefa50f1aa",
        "colab": {
          "base_uri": "https://localhost:8080/",
          "height": 504
        }
      },
      "source": [
        "#filename = 'clf_350_300.sav'\n",
        "#clf_350_300 = pickle.load(open(path+filename, 'rb'))\n",
        "y_test_350_300, y_pred_350_300 = testing(df_test, df_chri_350_test, df_doyl_350_test, doyle_w2v_sent_300, clf_350_300, 300)"
      ],
      "execution_count": 50,
      "outputs": [
        {
          "output_type": "stream",
          "text": [
            "Test Accuracy:  0.8340248962655602\n",
            "F1 Score:  0.8340248962655602\n"
          ],
          "name": "stdout"
        },
        {
          "output_type": "display_data",
          "data": {
            "image/png": "[encoded data removed]",
            "text/plain": [
              "<Figure size 576x432 with 2 Axes>"
            ]
          },
          "metadata": {
            "tags": []
          }
        }
      ]
    },
    {
      "cell_type": "code",
      "metadata": {
        "id": "TWgY538ZxE7I"
      },
      "source": [
        "#filename = 'clf_1400_300.sav'\n",
        "#clf_1400_300 = pickle.load(open(path+filename, 'rb'))\n",
        "y_test_1400_300, y_pred_1400_300 = testing(df_test1, df_chri_1400_test, df_doyl_1400_test, doyle_w2v_sent_300, clf_1400_300, 300)"
      ],
      "execution_count": null,
      "outputs": []
    },
    {
      "cell_type": "code",
      "metadata": {
        "id": "0O9qDy4XxRKz"
      },
      "source": [
        "#filename = 'clf_3500_300.sav'\n",
        "#clf_3500_300 = pickle.load(open(path+filename, 'rb'))\n",
        "y_test_3500_300, y_pred_3500_300 = testing(df_test2, df_chri_3500_test, df_doyl_3500_test, doyle_w2v_sent_300, clf_3500_300, 300)"
      ],
      "execution_count": null,
      "outputs": []
    },
    {
      "cell_type": "markdown",
      "metadata": {
        "id": "jbl4o1Cwrmis"
      },
      "source": [
        "# Data Perturbation "
      ]
    },
    {
      "cell_type": "code",
      "metadata": {
        "id": "YsGMna2P9xcl"
      },
      "source": [
        "def pert_testing(df_test, model, clf, dim):\n",
        "  test_data = w2v(df_test, model,dim)\n",
        "\n",
        "  df_te = pd.DataFrame(test_data)\n",
        "  df_te['author'] = df_test['Label'].values.tolist()\n",
        "\n",
        "  df_te = df_te.sample(frac=1).reset_index(drop=True)\n",
        "\n",
        "  y_test = df_te['author']\n",
        "  x_test = df_te.drop(['author'], axis=1)\n",
        "\n",
        "  for i, x in enumerate(y_test.tolist()):\n",
        "    if (x == 'christie' or x == 'rinehart'): \n",
        "      y_test[i] = 'other'\n",
        "\n",
        "  y_pred = clf.predict(x_test)\n",
        "  print('Test Accuracy: ', accuracy_score(y_test, y_pred))\n",
        "  cm = confusion_matrix(y_test, y_pred)\n",
        "  print('F1 Score: ', f1_score(y_test, y_pred, average='micro'))\n",
        "  plot_confusion_matrix(cm,\n",
        "                      normalize    = False,\n",
        "                      target_names = ['Others', 'Doyle'],\n",
        "                      title        = \"Confusion Matrix\")\n",
        "\n",
        "  return y_test, y_pred"
      ],
      "execution_count": 47,
      "outputs": []
    },
    {
      "cell_type": "code",
      "metadata": {
        "id": "gYXucQnAs-so"
      },
      "source": [
        "import json\n",
        "def load_corpus(fn: str) -> list:\n",
        "    with open(fn) as fd:\n",
        "        return json.load(fd)\n",
        "\n",
        "\n",
        "def json_df (test_file):\n",
        "  # Load documents from JSON file\n",
        "  docs = load_corpus(test_file)\n",
        "  num_docs = len(docs)\n",
        "  print('Loaded', num_docs, 'documents for testing')\n",
        "\n",
        "  # Process documents\n",
        "  # Each document is represented as a dictionary with a 'label' and 'text' field\n",
        "  text = []\n",
        "  label = []\n",
        "  for i, doc in enumerate(docs):\n",
        "    text.append(re.split('#| |\\--|\\n', doc['text'])) \n",
        "    #text.append(re.split('#|\\--|\\n', doc['text']))\n",
        "    label.append(doc['label'])\n",
        "\n",
        "  #df = pd.DataFrame(text, columns = ['word_'+str(i) for i in range(len(text[0]))])\n",
        "  df = pd.DataFrame(text)\n",
        "  df['Label'] = label\n",
        "  #print(df)\n",
        "  return(df)      "
      ],
      "execution_count": 54,
      "outputs": []
    },
    {
      "cell_type": "markdown",
      "metadata": {
        "id": "YAaGQ4K7zSUO"
      },
      "source": [
        "## Load JSON files to df"
      ]
    },
    {
      "cell_type": "code",
      "metadata": {
        "id": "zRC51Br_G4XY",
        "outputId": "9caa950c-f452-47a4-b6b8-73169106e339",
        "colab": {
          "base_uri": "https://localhost:8080/"
        }
      },
      "source": [
        "#Add the perturbed data paths here\n",
        "#Read perturbed data\n",
        "paths_perturbed_data = [\n",
        "  '/content/drive/My Drive/perturbed_data_doyle/perturbed_numericals_doyle_350.json', \n",
        "  '/content/drive/My Drive/perturbed_data_doyle/perturbed_numericals_doyle_1400.json',\n",
        "  '/content/drive/My Drive/perturbed_data_doyle/perturbed_numericals_doyle_3500.json',\n",
        "  '/content/drive/My Drive/perturbed_data_doyle/perturbed_synonym_doyle_350.json',\n",
        "  '/content/drive/My Drive/perturbed_data_doyle/perturbed_synonym_doyle_1400.json',\n",
        "  '/content/drive/My Drive/perturbed_data_doyle/perturbed_synonym_doyle_3500.json',\n",
        "  #'/content/drive/My Drive/perturbed_data_doyle/perturbed_synonym_rinehart_350.json',\n",
        "  #'/content/drive/My Drive/perturbed_data_doyle/perturbed_synonym_rinehart_1400.json',\n",
        "  #'/content/drive/My Drive/perturbed_data_doyle/perturbed_synonym_rinehart_3500.json',\n",
        "]\n",
        "               \n",
        "df_pert_350_num = json_df(paths_perturbed_data[0])\n",
        "df_pert_1400_num = json_df(paths_perturbed_data[1]) \n",
        "df_pert_3500_num = json_df(paths_perturbed_data[2])\n",
        "\n",
        "df_pert_350_syn = json_df(paths_perturbed_data[3])\n",
        "df_pert_1400_syn = json_df(paths_perturbed_data[4]) \n",
        "df_pert_3500_syn = json_df(paths_perturbed_data[5])"
      ],
      "execution_count": 60,
      "outputs": [
        {
          "output_type": "stream",
          "text": [
            "Loaded 81 documents for testing\n",
            "81\n",
            "81\n",
            "352\n",
            "351\n",
            "Loaded 15 documents for testing\n",
            "15\n",
            "15\n",
            "1402\n",
            "3526\n",
            "Loaded 7 documents for testing\n",
            "7\n",
            "7\n",
            "3530\n",
            "3525\n",
            "Loaded 81 documents for testing\n",
            "81\n",
            "81\n",
            "352\n",
            "352\n",
            "Loaded 15 documents for testing\n",
            "15\n",
            "15\n",
            "1404\n",
            "3530\n",
            "Loaded 7 documents for testing\n",
            "7\n",
            "7\n",
            "3544\n",
            "3530\n"
          ],
          "name": "stdout"
        }
      ]
    },
    {
      "cell_type": "markdown",
      "metadata": {
        "id": "p_eDBlcOvKZx"
      },
      "source": [
        "## Testing with 50 dim embedding - Synonyms"
      ]
    },
    {
      "cell_type": "code",
      "metadata": {
        "id": "K3yjpAN2U1Rf",
        "outputId": "ff3d52e4-7534-4f2b-b140-ee6630e5c48f",
        "colab": {
          "base_uri": "https://localhost:8080/",
          "height": 504
        }
      },
      "source": [
        "#filename = 'clf_350_50.sav'\n",
        "#clf_350_50 = pickle.load(open(path+filename, 'rb'))\n",
        "y_test_350_50_syn, y_pred_350_50_syn = pert_testing(df_pert_350_syn, doyle_w2v_sent_50, clf_350_50, 50)"
      ],
      "execution_count": 61,
      "outputs": [
        {
          "output_type": "stream",
          "text": [
            "Test Accuracy:  0.9259259259259259\n",
            "F1 Score:  0.9259259259259259\n"
          ],
          "name": "stdout"
        },
        {
          "output_type": "display_data",
          "data": {
            "image/png": "[encoded data removed]",
            "text/plain": [
              "<Figure size 576x432 with 2 Axes>"
            ]
          },
          "metadata": {
            "tags": []
          }
        }
      ]
    },
    {
      "cell_type": "code",
      "metadata": {
        "id": "KacXZvLUyIUV"
      },
      "source": [
        "#filename = 'clf_1400_50.sav'\n",
        "#clf_1400_50 = pickle.load(open(path+filename, 'rb'))\n",
        "y_test_1400_50_syn, y_pred_1400_50_syn = pert_testing(df_pert_1400_syn, doyle_w2v_sent_50, clf_1400_50, 50)"
      ],
      "execution_count": null,
      "outputs": []
    },
    {
      "cell_type": "code",
      "metadata": {
        "id": "1NGT1cQRyrEK"
      },
      "source": [
        "#filename = 'clf_3500_50.sav'\n",
        "#clf_3500_50 = pickle.load(open(path+filename, 'rb'))\n",
        "y_test_3500_50_syn, y_pred_3500_50_syn = pert_testing(df_pert_3500_syn, doyle_w2v_sent_50, clf_3500_50, 50)"
      ],
      "execution_count": null,
      "outputs": []
    },
    {
      "cell_type": "markdown",
      "metadata": {
        "id": "hnETT8-TvZ8i"
      },
      "source": [
        "## Testing with 50 dim embedding - Numericals"
      ]
    },
    {
      "cell_type": "code",
      "metadata": {
        "id": "R5oTyUVFy84O",
        "outputId": "9ed9cb12-4773-427a-ef4d-29677e38754c",
        "colab": {
          "base_uri": "https://localhost:8080/",
          "height": 504
        }
      },
      "source": [
        "#filename = 'clf_350_50.sav'\n",
        "#clf_350_50 = pickle.load(open(path+filename, 'rb'))\n",
        "y_test_350_50_num, y_pred_350_50_num = pert_testing(df_pert_350_num, doyle_w2v_sent_50, clf_350_50, 50)"
      ],
      "execution_count": 58,
      "outputs": [
        {
          "output_type": "stream",
          "text": [
            "Test Accuracy:  0.9259259259259259\n",
            "F1 Score:  0.9259259259259259\n"
          ],
          "name": "stdout"
        },
        {
          "output_type": "display_data",
          "data": {
            "image/png": "[encoded data removed]",
            "text/plain": [
              "<Figure size 576x432 with 2 Axes>"
            ]
          },
          "metadata": {
            "tags": []
          }
        }
      ]
    },
    {
      "cell_type": "code",
      "metadata": {
        "id": "ZMAJaD_Jy84n"
      },
      "source": [
        "#filename = 'clf_1400_50.sav'\n",
        "#clf_1400_50 = pickle.load(open(path+filename, 'rb'))\n",
        "y_test_1400_50_num, y_pred_1400_50_num = pert_testing(df_pert_1400_num, doyle_w2v_sent_50, clf_1400_50, 50)"
      ],
      "execution_count": null,
      "outputs": []
    },
    {
      "cell_type": "code",
      "metadata": {
        "id": "HytEHhMWy843"
      },
      "source": [
        "#filename = 'clf_3500_50.sav'\n",
        "#clf_3500_50 = pickle.load(open(path+filename, 'rb'))\n",
        "y_test_3500_50_num, y_pred_3500_50_num = pert_testing(df_pert_3500_num, doyle_w2v_sent_50, clf_3500_50, 50)"
      ],
      "execution_count": null,
      "outputs": []
    },
    {
      "cell_type": "markdown",
      "metadata": {
        "id": "l8-HeSEJvXeX"
      },
      "source": [
        "## Testing with 300 dim embedding - Synonyms"
      ]
    },
    {
      "cell_type": "code",
      "metadata": {
        "id": "uBk_EC7yzRez"
      },
      "source": [
        "#filename = 'clf_350_300.sav'\n",
        "#clf_350_300 = pickle.load(open(path+filename, 'rb'))\n",
        "y_test_350_300_syn, y_pred_350_300_syn = pert_testing(df_pert_350_syn, doyle_w2v_sent_300, clf_350_300, 300)"
      ],
      "execution_count": null,
      "outputs": []
    },
    {
      "cell_type": "code",
      "metadata": {
        "id": "jfEF1Si7zRfG"
      },
      "source": [
        "#filename = 'clf_1400_300.sav'\n",
        "#clf_1400_300 = pickle.load(open(path+filename, 'rb'))\n",
        "y_test_1400_300_syn, y_pred_1400_300_syn = pert_testing(df_pert_1400_syn, doyle_w2v_sent_300, clf_1400_300, 300)"
      ],
      "execution_count": null,
      "outputs": []
    },
    {
      "cell_type": "code",
      "metadata": {
        "id": "li7aTjTGzRfR"
      },
      "source": [
        "#filename = 'clf_3500_300.sav'\n",
        "#clf_3500_300 = pickle.load(open(path+filename, 'rb'))\n",
        "y_test_3500_300_syn, y_pred_3500_300_syn = pert_testing(df_pert_3500_syn, doyle_w2v_sent_300, clf_3500_300, 300)"
      ],
      "execution_count": null,
      "outputs": []
    },
    {
      "cell_type": "markdown",
      "metadata": {
        "id": "6eUCxnDGveLX"
      },
      "source": [
        "## Testing with 300 dim embedding - Numericals"
      ]
    },
    {
      "cell_type": "code",
      "metadata": {
        "id": "3jc42g6kzWCt"
      },
      "source": [
        "#filename = 'clf_350_300.sav'\n",
        "#clf_350_300 = pickle.load(open(path+filename, 'rb'))\n",
        "y_test_350_300_num, y_pred_350_300_num = pert_testing(df_pert_350_num, doyle_w2v_sent_300, clf_350_300, 300)"
      ],
      "execution_count": null,
      "outputs": []
    },
    {
      "cell_type": "code",
      "metadata": {
        "id": "zadUss4AzWC_"
      },
      "source": [
        "#filename = 'clf_1400_300.sav'\n",
        "#clf_1400_300 = pickle.load(open(path+filename, 'rb'))\n",
        "y_test_1400_300_num, y_pred_1400_300_num = pert_testing(df_pert_1400_num, doyle_w2v_sent_300, clf_1400_300, 300)"
      ],
      "execution_count": null,
      "outputs": []
    },
    {
      "cell_type": "code",
      "metadata": {
        "id": "nngGxYmFzWDK"
      },
      "source": [
        "#filename = 'clf_3500_300.sav'\n",
        "#clf_3500_300 = pickle.load(open(path+filename, 'rb'))\n",
        "y_test_3500_300_num, y_pred_3500_300_num = pert_testing(df_pert_3500_num, doyle_w2v_sent_300, clf_3500_300, 300)"
      ],
      "execution_count": null,
      "outputs": []
    }
  ]
}