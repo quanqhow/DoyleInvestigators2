{
  "nbformat": 4,
  "nbformat_minor": 0,
  "metadata": {
    "colab": {
      "name": "Doyle Scraping.ipynb",
      "provenance": [],
      "collapsed_sections": [],
      "authorship_tag": "ABX9TyOs0QtZUz/UVxXvpZ5jVVZK"
    },
    "kernelspec": {
      "name": "python3",
      "display_name": "Python 3"
    }
  },
  "cells": [
    {
      "cell_type": "code",
      "metadata": {
        "id": "esLwHVAyT611"
      },
      "source": [
        "import requests\n",
        "import re\n",
        "from bs4 import BeautifulSoup\n",
        "import string\n",
        "from time import sleep\n",
        "from collections import namedtuple\n",
        "\n",
        "CORPUS_URL = {\n",
        "    'The Valley of Fear': \"http://www.gutenberg.org/files/3289/3289-h/3289-h.htm\",\n",
        "    'A Study in Scarlet': \"http://www.gutenberg.org/files/244/244-h/244-h.htm\",\n",
        "    'The Sign of the Four': \"http://www.gutenberg.org/files/2097/2097-h/2097-h.htm\",\n",
        "    'The Hound of the Baskervilles': \"http://www.gutenberg.org/files/2852/2852-h/2852-h.htm\",\n",
        "    # NOTE: This file is a compilation of adventures where \"The Boscombe Valley Mystery\" is Adventure 4\n",
        "    'The Boscombe Valley Mystery': 'https://www.gutenberg.org/files/1661/1661-h/1661-h.htm',\n",
        "}"
      ],
      "execution_count": null,
      "outputs": []
    },
    {
      "cell_type": "code",
      "metadata": {
        "id": "pMRxbKGrYSH8"
      },
      "source": [
        "# Causes output text to wrap in output cells\n",
        "from IPython.display import HTML, display\n",
        "\n",
        "def set_css():\n",
        "  display(HTML('''\n",
        "  <style>\n",
        "    pre {\n",
        "        white-space: pre-wrap;\n",
        "    }\n",
        "  </style>\n",
        "  '''))\n",
        "get_ipython().events.register('pre_run_cell', set_css)"
      ],
      "execution_count": null,
      "outputs": []
    },
    {
      "cell_type": "code",
      "metadata": {
        "id": "C9kaRjPDVTX6",
        "outputId": "91879375-71c6-4cae-83d6-f379b1fc4993",
        "colab": {
          "base_uri": "https://localhost:8080/",
          "height": 17
        }
      },
      "source": [
        "Match = namedtuple('Match', ['chapter_number', 'sentence_number', 'matches', 'text'])\n",
        "\n",
        "\n",
        "class Scraper:\n",
        "    def __init__(self, urls):\n",
        "        self.urls = urls\n",
        "\n",
        "    def scrape(self, *, responses=None):\n",
        "        books = []\n",
        "        responses = [requests.get(url) for url in self.urls] if responses is None else responses\n",
        "\n",
        "        for response in responses:\n",
        "\n",
        "            positions = [\n",
        "                         response.text.find(\"***END\"),\n",
        "                         response.text.find(\"*** END\"),\n",
        "                         response.text.find(\"THE END\"),\n",
        "                         response.text.find(\"End of\")\n",
        "                        ]\n",
        "            end_pos = min([pos for pos in positions if pos > 0])\n",
        "            book_html = response.text[:end_pos]\n",
        "\n",
        "            def search(pattern):\n",
        "                return re.search(pattern, book_html).group(1)\n",
        "\n",
        "            title = search('Title: ([^\\n|\\r\\n|\\r]*)')\n",
        "            author = search('Author: ([^\\n|\\r\\n|\\r]*)')\n",
        "            release = search('Release Date: ([A-Za-z]*[\\s0-9]*?, [0-9]*)')\n",
        "\n",
        "            soup = BeautifulSoup(book_html)\n",
        "\n",
        "            chapters = self.find_chapters(soup)\n",
        "\n",
        "            books.append(Book(author, chapters, release, title))\n",
        "\n",
        "        return books\n",
        "\n",
        "    def find_chapters(self, soup):\n",
        "        chapters = []\n",
        "        chapter_tags = soup.find_all(\n",
        "            re.compile(\"(h2|h3)\"),\n",
        "            string=re.compile(\"Chapter\", re.IGNORECASE)\n",
        "        )\n",
        "        print(chapter_tags)\n",
        "        for chapter_number, chapter_tag in enumerate(chapter_tags, start=1):\n",
        "            chapter_text = []\n",
        "            chapter_title = None\n",
        "            for i, sibling in enumerate(chapter_tag.next_siblings):\n",
        "                if i == 1:\n",
        "                    chapter_title = string.capwords(sibling.text)\n",
        "                elif sibling.name == 'p':\n",
        "                    chapter_text.append(sibling.text)\n",
        "                elif sibling.name == 'h2':\n",
        "                    break\n",
        "                else:\n",
        "                    continue\n",
        "\n",
        "            chapters.append(\n",
        "                Chapter(chapter_title, chapter_number, chapter_text)\n",
        "            )\n",
        "\n",
        "        return chapters\n",
        "\n",
        "class Chapter:\n",
        "    def __init__(self, title, number, text):\n",
        "        self.title = title\n",
        "        self.number = number\n",
        "        self.text = self.clean(text)\n",
        "\n",
        "    def find(self, pattern):\n",
        "        all_matches = []\n",
        "        for sentence_number, sentence in self.sentences:\n",
        "            matches = list(re.finditer(pattern, sentence))\n",
        "            if len(matches):\n",
        "                all_matches.append(\n",
        "                    Match(self.number, sentence_number, matches, sentence)\n",
        "                )\n",
        "\n",
        "        return all_matches\n",
        "\n",
        "    @staticmethod\n",
        "    def clean(chapter_text):\n",
        "        chapter_text = ' '.join(chapter_text)\n",
        "        chapter_text = chapter_text.replace('\\r\\n', ' ')\n",
        "        return chapter_text\n",
        "\n",
        "    @property\n",
        "    def sentences(self):\n",
        "        '''\n",
        "        Splits the chapter text into sentences. This is a hard task so some decisions need to be made.\n",
        "\n",
        "        Case 1: (?<!\\w\\.\\w.)(?<![A-Z][a-z]\\.)(?<![A-Z][a-z][a-z]\\.)(?<=[.?!])\\s\n",
        "            (?<!\\w\\.\\w.): Negative lookbehind to prevent splitting on i.e. and e.g.\n",
        "        Python requires fixed width patterns for lookbehinds, so we have split these\n",
        "            (?<![A-Z][a-z]\\.): Negative lookbehind to prevent splitting on Mr.\n",
        "            (?<![A-Z][a-z][a-z]\\.): Negative lookbehind to prevent splitting on Mrs.\n",
        "            (?<=[.?!]): Positive lookbehind to make sure we're only splitting after ., ?, or !\n",
        "            \\s: Any white-space character\n",
        "        Case 2: (?<=[.?!][\\\"])\\s(?=[\\\"A-Z])\n",
        "            (?<=[.?!][\\\"]): Positive lookbehind to make sure we're only splitting after .\", ?\", or !\"\n",
        "            \\s: Any white-space character\n",
        "            (?=[\\\"A-Z]): Positive lookahead to make sure we're only splitting before \" or a capital letter\n",
        "\n",
        "        Examples:\n",
        "            ...a fashion which had become a habit. Miss Penkridge...\n",
        "                Sentence 1: ...a fashion which had become a habit.\n",
        "                Sentence 2: Miss Penkridge...\n",
        "            ...content. \"So he did it! Now, I should never have thought it! The last person...\n",
        "                Sentence 1: ...content.\n",
        "                Sentence 2: \"So he did it!\n",
        "                Sentence 3: Now, I should never have thought it!\n",
        "                Sentence 4: The last person...\n",
        "            ...this sort of stuff?\" \"Stuff?\" demanded Miss Penkridge, who had resumed her...\n",
        "                Sentence 1: ...this sort of stuff?\"\n",
        "                Sentence 2: \"Stuff?\" demanded Miss Penkridge, who had resumed her...\n",
        "        '''\n",
        "        splits = re.split('(?<!\\w\\.\\w.)(?<![A-Z][a-z]\\.)(?<![A-Z][a-z][a-z]\\.)(?<=[.?!])\\s|(?<=[.?!][\\\"])\\s(?=[\\\"A-Z])', self.text)\n",
        "        return zip(range(1, len(splits)+1), splits)\n",
        "\n",
        "    def __len__(self):\n",
        "        return len(list(self.sentences))\n",
        "\n",
        "    def __str__(self):\n",
        "        return self.title\n",
        "\n",
        "    def __repr__(self):\n",
        "        return (\n",
        "            f'Chapter {self.number}: {self.title}\\n'\n",
        "            f'Content: {self.text[:20]}...{self.text[-20:]}'\n",
        "        )\n",
        "\n",
        "class Book:\n",
        "    def __init__(self, author, chapters, release, title):\n",
        "        self.author = author\n",
        "        self.chapters = chapters\n",
        "        self.release = release\n",
        "        self.title = title\n",
        "\n",
        "    def find(self, pattern):\n",
        "        all_matches = []\n",
        "        for chapter in self.chapters:\n",
        "            matches = chapter.find(pattern)\n",
        "            if len(matches):\n",
        "                all_matches.extend(matches)\n",
        "\n",
        "        return all_matches\n",
        "\n",
        "    def __len__(self):\n",
        "        return len(self.chapters)\n",
        "\n",
        "    def __str__(self):\n",
        "        return self.title\n",
        "\n",
        "    def __repr__(self):\n",
        "        return (\n",
        "            f'{self.title} by {self.author}, '\n",
        "            f'released in {self.release} and '\n",
        "            f'contains {len(self)} chapters'\n",
        "        )"
      ],
      "execution_count": null,
      "outputs": [
        {
          "output_type": "display_data",
          "data": {
            "text/html": [
              "\n",
              "  <style>\n",
              "    pre {\n",
              "        white-space: pre-wrap;\n",
              "    }\n",
              "  </style>\n",
              "  "
            ],
            "text/plain": [
              "<IPython.core.display.HTML object>"
            ]
          },
          "metadata": {
            "tags": []
          }
        }
      ]
    },
    {
      "cell_type": "code",
      "metadata": {
        "id": "QMwM2juoVoUB",
        "outputId": "d9889ffa-2320-43a8-c00d-fa83e3de54ce",
        "colab": {
          "base_uri": "https://localhost:8080/",
          "height": 17
        }
      },
      "source": [
        "responses = [requests.get(url) for title, url in CORPUS_URL.items()]"
      ],
      "execution_count": null,
      "outputs": [
        {
          "output_type": "display_data",
          "data": {
            "text/html": [
              "\n",
              "  <style>\n",
              "    pre {\n",
              "        white-space: pre-wrap;\n",
              "    }\n",
              "  </style>\n",
              "  "
            ],
            "text/plain": [
              "<IPython.core.display.HTML object>"
            ]
          },
          "metadata": {
            "tags": []
          }
        }
      ]
    },
    {
      "cell_type": "code",
      "metadata": {
        "id": "5VvM00M8VoW-",
        "outputId": "5129ce26-b2cb-4ac0-9f6e-b1484391a159",
        "colab": {
          "base_uri": "https://localhost:8080/",
          "height": 1000
        }
      },
      "source": [
        "books = Scraper([url for title, url in CORPUS_URL.items()]).scrape(responses=responses)"
      ],
      "execution_count": null,
      "outputs": [
        {
          "output_type": "display_data",
          "data": {
            "text/html": [
              "\n",
              "  <style>\n",
              "    pre {\n",
              "        white-space: pre-wrap;\n",
              "    }\n",
              "  </style>\n",
              "  "
            ],
            "text/plain": [
              "<IPython.core.display.HTML object>"
            ]
          },
          "metadata": {
            "tags": []
          }
        },
        {
          "output_type": "stream",
          "text": [
            "[<h2>\r\n",
            "      Chapter 1—The Warning\r\n",
            "    </h2>, <h2>\r\n",
            "      Chapter 2—Sherlock Holmes Discourses\r\n",
            "    </h2>, <h2>\r\n",
            "      Chapter 3—The Tragedy of Birlstone\r\n",
            "    </h2>, <h2>\r\n",
            "      Chapter 4—Darkness\r\n",
            "    </h2>, <h2>\r\n",
            "      Chapter 5—The People of the Drama\r\n",
            "    </h2>, <h2>\r\n",
            "      Chapter 6—A Dawning Light\r\n",
            "    </h2>, <h2>\r\n",
            "      Chapter 7—The Solution\r\n",
            "    </h2>, <h2>\r\n",
            "      Chapter 1—The Man\r\n",
            "    </h2>, <h2>\r\n",
            "      Chapter 2—The Bodymaster\r\n",
            "    </h2>, <h2>\r\n",
            "      Chapter 3—Lodge 341, Vermissa\r\n",
            "    </h2>, <h2>\r\n",
            "      Chapter 4—The Valley of Fear\r\n",
            "    </h2>, <h2>\r\n",
            "      Chapter 5—The Darkest Hour\r\n",
            "    </h2>, <h2>\r\n",
            "      Chapter 6—Danger\r\n",
            "    </h2>, <h2>\r\n",
            "      Chapter 7—The Trapping of Birdy Edwards\r\n",
            "    </h2>]\n",
            "[<h2>\r\n",
            "      CHAPTER I. MR. SHERLOCK HOLMES.\r\n",
            "    </h2>, <h2>\r\n",
            "      CHAPTER II. THE SCIENCE OF DEDUCTION.\r\n",
            "    </h2>, <h2>\r\n",
            "      CHAPTER IV. WHAT JOHN RANCE HAD TO TELL.\r\n",
            "    </h2>, <h2>\r\n",
            "      CHAPTER V. OUR ADVERTISEMENT BRINGS A VISITOR.\r\n",
            "    </h2>, <h2>\r\n",
            "      CHAPTER VI. TOBIAS GREGSON SHOWS WHAT HE CAN DO.\r\n",
            "    </h2>, <h2>\r\n",
            "      CHAPTER VII. LIGHT IN THE DARKNESS.\r\n",
            "    </h2>, <h2>\r\n",
            "      CHAPTER I. ON THE GREAT ALKALI PLAIN.\r\n",
            "    </h2>, <h2>\r\n",
            "      CHAPTER II. THE FLOWER OF UTAH.\r\n",
            "    </h2>, <h2>\r\n",
            "      CHAPTER III. JOHN FERRIER TALKS WITH THE PROPHET.\r\n",
            "    </h2>, <h2>\r\n",
            "      CHAPTER IV. A FLIGHT FOR LIFE.\r\n",
            "    </h2>, <h2>\r\n",
            "      CHAPTER V. THE AVENGING ANGELS.\r\n",
            "    </h2>, <h2>\r\n",
            "      CHAPTER VI. A CONTINUATION OF THE REMINISCENCES OF JOHN WATSON, M.D.\r\n",
            "    </h2>, <h2>\r\n",
            "      CHAPTER VII. THE CONCLUSION.\r\n",
            "    </h2>]\n",
            "[]\n",
            "[]\n",
            "[]\n"
          ],
          "name": "stdout"
        }
      ]
    },
    {
      "cell_type": "code",
      "metadata": {
        "id": "GkOIHpLIWn48",
        "outputId": "98cc99d5-b0dc-4824-b11d-fec07ca4f972",
        "colab": {
          "base_uri": "https://localhost:8080/",
          "height": 69
        }
      },
      "source": [
        "print(books)"
      ],
      "execution_count": null,
      "outputs": [
        {
          "output_type": "display_data",
          "data": {
            "text/html": [
              "\n",
              "  <style>\n",
              "    pre {\n",
              "        white-space: pre-wrap;\n",
              "    }\n",
              "  </style>\n",
              "  "
            ],
            "text/plain": [
              "<IPython.core.display.HTML object>"
            ]
          },
          "metadata": {
            "tags": []
          }
        },
        {
          "output_type": "stream",
          "text": [
            "[The Valley of Fear by Sir Arthur Conan Doyle, released in February 28, 2009 and contains 14 chapters, A Study In Scarlet by Arthur Conan Doyle, released in July 12, 2008 and contains 13 chapters, The Sign of the Four by Arthur Conan Doyle, released in March, 2000 and contains 0 chapters, The Hound of the Baskervilles by Arthur Conan Doyle, released in December 8, 2008 and contains 0 chapters, The Adventures of Sherlock Holmes by Arthur Conan Doyle, released in November 29, 2002 and contains 0 chapters]\n"
          ],
          "name": "stdout"
        }
      ]
    }
  ]
}