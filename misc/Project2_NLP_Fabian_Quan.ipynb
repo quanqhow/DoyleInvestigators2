{
  "nbformat": 4,
  "nbformat_minor": 0,
  "metadata": {
    "colab": {
      "name": "Project2_NLP_Fabian_Quan.ipynb",
      "provenance": [],
      "toc_visible": true,
      "authorship_tag": "ABX9TyMGl8cbXXXTiZdRFEWZO6Kw",
      "include_colab_link": true
    },
    "kernelspec": {
      "name": "python3",
      "display_name": "Python 3"
    },
    "accelerator": "GPU"
  },
  "cells": [
    {
      "cell_type": "markdown",
      "metadata": {
        "id": "view-in-github",
        "colab_type": "text"
      },
      "source": [
        "<a href=\"https://colab.research.google.com/github/edponce/DoyleInvestigators2/blob/main/embeddings/Project2_NLP_Fabian_Quan.ipynb\" target=\"_parent\"><img src=\"https://colab.research.google.com/assets/colab-badge.svg\" alt=\"Open In Colab\"/></a>"
      ]
    },
    {
      "cell_type": "markdown",
      "metadata": {
        "id": "7t3zrbX5so46"
      },
      "source": [
        "#$\\color{brown}{\\rm 1.~Preprocess~Data}$"
      ]
    },
    {
      "cell_type": "markdown",
      "metadata": {
        "id": "ta-voKpu4Q2Y"
      },
      "source": [
        "###1.1. Load Data and remove null spaces in the corpus"
      ]
    },
    {
      "cell_type": "code",
      "metadata": {
        "id": "VgalYWRVrzyP",
        "outputId": "12df1f51-865d-4374-bfe5-d539dc2c6389",
        "colab": {
          "base_uri": "https://localhost:8080/"
        }
      },
      "source": [
        "import re  # For preprocessing\n",
        "import pandas as pd  # For data handling\n",
        "from time import time  # To time our operations\n",
        "from collections import defaultdict  # For word frequency\n",
        "import spacy  # For preprocessing\n",
        "import logging  # Setting up the loggings to monitor gensim\n",
        "from gensim.models.phrases import Phrases, Phraser\n",
        "logging.basicConfig(format=\"%(levelname)s - %(asctime)s: %(message)s\", datefmt= '%H:%M:%S', level=logging.INFO)\n",
        "\n",
        "#1. Toy example with the script of 27 seasons of the scripts from the tv show \"The Simpsons\"\n",
        "df = pd.read_csv('toy_example_corpora_simpsons.csv')\n",
        "print(df.shape)\n",
        "\n",
        "#2. This dataset has many null rows, this line gets rid of it\n",
        "df = df.dropna().reset_index(drop=True)\n",
        "print(df.shape)"
      ],
      "execution_count": 2,
      "outputs": [
        {
          "output_type": "stream",
          "text": [
            "INFO - 17:40:31: NumExpr defaulting to 2 threads.\n"
          ],
          "name": "stderr"
        },
        {
          "output_type": "stream",
          "text": [
            "(158314, 2)\n",
            "(131853, 2)\n"
          ],
          "name": "stdout"
        }
      ]
    },
    {
      "cell_type": "markdown",
      "metadata": {
        "id": "ZK_9t9zI4Zgn"
      },
      "source": [
        "###1.2. Lemmatization and basic cleaning"
      ]
    },
    {
      "cell_type": "code",
      "metadata": {
        "id": "-jjTPErEt7AN",
        "outputId": "eeb5e4b9-9a9b-4675-ca20-24ff3e382f85",
        "colab": {
          "base_uri": "https://localhost:8080/"
        }
      },
      "source": [
        "#1. Disabling Named Entity Recognition just for speed\n",
        "nlp = spacy.load('en', disable=['ner', 'parser']) \n",
        "\n",
        "#2. Utility functions\n",
        "def cleaning(doc):\n",
        "    # doc needs to be a spacy Doc object\n",
        "\n",
        "    #Lemmatizes and removes stopwords\n",
        "    txt = [token.lemma_ for token in doc if not token.is_stop]\n",
        "\n",
        "    # Word2Vec uses context words to learn the vector representation of a target word,\n",
        "    # if a sentence is only one or two words long,\n",
        "    # the benefit for the training is very small\n",
        "    if len(txt) > 2:\n",
        "        return ' '.join(txt)\n",
        "\n",
        "#Remove non-alphabetic characters for each line of dialogue\n",
        "#This line creates a generator\n",
        "brief_cleaning = (re.sub(\"[^A-Za-z']+\", ' ', str(row)).lower() for row in df['spoken_words'])\n",
        "\n",
        "#3. Run the cleaning over all rows\n",
        "#Taking advantage of spaCy .pipe() attribute to speed-up the cleaning process\n",
        "sentences = [cleaning(doc) for doc in nlp.pipe(brief_cleaning, batch_size=5000, n_threads=-1)]\n",
        "\n",
        "print(len(sentences))"
      ],
      "execution_count": 3,
      "outputs": [
        {
          "output_type": "stream",
          "text": [
            "131853\n"
          ],
          "name": "stdout"
        }
      ]
    },
    {
      "cell_type": "markdown",
      "metadata": {
        "id": "nxMOZ6D84fmB"
      },
      "source": [
        "###1.3. Gensim Phrases package to automatically detect common phrases (bigrams) from a list of sentences.\n",
        "\n",
        "Example: to catch things like \"mr_holmes\" in sentences with \"Mr. Holmes\""
      ]
    },
    {
      "cell_type": "code",
      "metadata": {
        "id": "WVu4KVzf3PEh",
        "outputId": "953109ce-470b-4a20-ca67-9f00eda32921",
        "colab": {
          "base_uri": "https://localhost:8080/"
        }
      },
      "source": [
        "#clean sentences with None type and duplicates\n",
        "df_clean = pd.DataFrame({'clean': sentences})\n",
        "print(df_clean.shape)\n",
        "df_clean = df_clean.dropna().drop_duplicates()\n",
        "print(df_clean.shape)\n",
        "\n",
        "#Prepare data: as Phrases() takes a list of list of words as input\n",
        "sent = [row.split() for row in df_clean['clean']]\n",
        "phrases = Phrases(sent, min_count=30, progress_per=10000)\n",
        "\n",
        "#The goal of Phraser() is to cut down memory consumption of Phrases()\n",
        "#Transform the corpus based on the bigrams detected\n",
        "bigram = Phraser(phrases)\n",
        "clean_sentences = bigram[sent]\n",
        "\n",
        "print()\n",
        "print(len(clean_sentences))\n",
        "print(clean_sentences[7])"
      ],
      "execution_count": 4,
      "outputs": [
        {
          "output_type": "stream",
          "text": [
            "INFO - 17:41:36: collecting all words and their counts\n",
            "INFO - 17:41:36: PROGRESS: at sentence #0, processed 0 words and 0 word types\n"
          ],
          "name": "stderr"
        },
        {
          "output_type": "stream",
          "text": [
            "(131853, 1)\n",
            "(85964, 1)\n"
          ],
          "name": "stdout"
        },
        {
          "output_type": "stream",
          "text": [
            "INFO - 17:41:36: PROGRESS: at sentence #10000, processed 63561 words and 52816 word types\n",
            "INFO - 17:41:36: PROGRESS: at sentence #20000, processed 130943 words and 99866 word types\n",
            "INFO - 17:41:37: PROGRESS: at sentence #30000, processed 192972 words and 138532 word types\n",
            "INFO - 17:41:37: PROGRESS: at sentence #40000, processed 249842 words and 172659 word types\n",
            "INFO - 17:41:37: PROGRESS: at sentence #50000, processed 311265 words and 208566 word types\n",
            "INFO - 17:41:37: PROGRESS: at sentence #60000, processed 373588 words and 243702 word types\n",
            "INFO - 17:41:37: PROGRESS: at sentence #70000, processed 436441 words and 278740 word types\n",
            "INFO - 17:41:37: PROGRESS: at sentence #80000, processed 497829 words and 311886 word types\n",
            "INFO - 17:41:37: collected 330804 word types from a corpus of 537160 words (unigram + bigrams) and 85964 sentences\n",
            "INFO - 17:41:37: using 330804 counts as vocab in Phrases<0 vocab, min_count=30, threshold=10.0, max_vocab_size=40000000>\n",
            "INFO - 17:41:37: source_vocab length 330804\n",
            "INFO - 17:41:40: Phraser built with 126 phrasegrams\n"
          ],
          "name": "stderr"
        },
        {
          "output_type": "stream",
          "text": [
            "\n",
            "85964\n",
            "['think', 'take', 'train', 'capital_city']\n"
          ],
          "name": "stdout"
        }
      ]
    },
    {
      "cell_type": "markdown",
      "metadata": {
        "id": "5P_Sf4O67xVw"
      },
      "source": [
        "#$\\color{brown}{\\rm 2.~Train~Model}$"
      ]
    },
    {
      "cell_type": "markdown",
      "metadata": {
        "id": "jqG6mdzg8BXe"
      },
      "source": [
        "###2.1. Word2Vec setup"
      ]
    },
    {
      "cell_type": "code",
      "metadata": {
        "id": "lD_zBiSy8LQZ"
      },
      "source": [
        "#Gensim Word2Vec Implementation\n",
        "import multiprocessing\n",
        "from gensim.models import Word2Vec\n",
        "\n",
        "#Parameter of word2vec\n",
        "'''\n",
        "min_count =  int   --> Ignores all words with total absolute frequency lower than this - (2, 100)\n",
        "window =     int   --> The maximum distance between the current and predicted word within a sentence. \n",
        "                       E.g. window words on the left and window words on the right of our target - (2, 10)\n",
        "size =       int   --> Dimensionality of the feature vectors. - (50, 300)\n",
        "sample =     float --> The threshold for configuring which higher-frequency words are randomly downsampled. \n",
        "                       Highly influencial. - (0, 1e-5)\n",
        "alpha =      float --> The initial learning rate - (0.01, 0.05)\n",
        "min_alpha =  float --> Learning rate will linearly drop to min_alpha as training progresses. \n",
        "                       To set it: alpha - (min_alpha * epochs) ~ 0.00\n",
        "negative =   int   --> If > 0, negative sampling will be used, the int for negative specifies how many \"noise words\" should be drown. \n",
        "                       If set to 0, no negative sampling is used. - (5, 20)\n",
        "workers =    int   --> Use these many worker threads to train the model (=faster training with multicore machines)\n",
        "sg =         int   -->  CBOW (0) -default- or skip gram (1)\n",
        "'''\n",
        "w2v_model = Word2Vec(min_count=20,\n",
        "                     window=2,\n",
        "                     size=300,\n",
        "                     sample=6e-5, \n",
        "                     alpha=0.03, \n",
        "                     min_alpha=0.0007, \n",
        "                     negative=20,\n",
        "                     sg=0)"
      ],
      "execution_count": 5,
      "outputs": []
    },
    {
      "cell_type": "markdown",
      "metadata": {
        "id": "Bze2AYqk8Tj9"
      },
      "source": [
        "###2.2. Building the Vocabulary Table"
      ]
    },
    {
      "cell_type": "code",
      "metadata": {
        "id": "5oPA9-Yh8a01",
        "outputId": "83c3738d-c552-41ac-8848-69ac230b5498",
        "colab": {
          "base_uri": "https://localhost:8080/"
        }
      },
      "source": [
        "#Word2Vec requires us to build the vocabulary table \n",
        "#(simply digesting all the words and filtering out the unique words, and doing some basic counts on them):\n",
        "w2v_model.build_vocab(clean_sentences, progress_per=10000)\n",
        "\n",
        "print()\n",
        "print(w2v_model.corpus_count)"
      ],
      "execution_count": 6,
      "outputs": [
        {
          "output_type": "stream",
          "text": [
            "INFO - 17:42:17: collecting all words and their counts\n",
            "INFO - 17:42:17: PROGRESS: at sentence #0, processed 0 words, keeping 0 word types\n",
            "INFO - 17:42:18: PROGRESS: at sentence #10000, processed 61718 words, keeping 9558 word types\n",
            "INFO - 17:42:18: PROGRESS: at sentence #20000, processed 127351 words, keeping 14506 word types\n",
            "INFO - 17:42:18: PROGRESS: at sentence #30000, processed 187829 words, keeping 17619 word types\n",
            "INFO - 17:42:18: PROGRESS: at sentence #40000, processed 243332 words, keeping 20385 word types\n",
            "INFO - 17:42:18: PROGRESS: at sentence #50000, processed 303182 words, keeping 22878 word types\n",
            "INFO - 17:42:19: PROGRESS: at sentence #60000, processed 363940 words, keeping 25200 word types\n",
            "INFO - 17:42:19: PROGRESS: at sentence #70000, processed 425408 words, keeping 27401 word types\n",
            "INFO - 17:42:19: PROGRESS: at sentence #80000, processed 485464 words, keeping 29275 word types\n",
            "INFO - 17:42:19: collected 30178 word types from a corpus of 523700 raw words and 85964 sentences\n",
            "INFO - 17:42:19: Loading a fresh vocabulary\n",
            "INFO - 17:42:19: effective_min_count=20 retains 3319 unique words (10% of original 30178, drops 26859)\n",
            "INFO - 17:42:19: effective_min_count=20 leaves 437324 word corpus (83% of original 523700, drops 86376)\n",
            "INFO - 17:42:19: deleting the raw counts dictionary of 30178 items\n",
            "INFO - 17:42:19: sample=6e-05 downsamples 1200 most-common words\n",
            "INFO - 17:42:19: downsampling leaves estimated 199161 word corpus (45.5% of prior 437324)\n",
            "INFO - 17:42:19: estimated required memory for 3319 words and 300 dimensions: 9625100 bytes\n",
            "INFO - 17:42:19: resetting layer weights\n"
          ],
          "name": "stderr"
        },
        {
          "output_type": "stream",
          "text": [
            "\n",
            "85964\n"
          ],
          "name": "stdout"
        }
      ]
    },
    {
      "cell_type": "markdown",
      "metadata": {
        "id": "eDtjQWhj9Obk"
      },
      "source": [
        "###2.3. Training of the model"
      ]
    },
    {
      "cell_type": "code",
      "metadata": {
        "id": "Kyh7FgKJ9R99"
      },
      "source": [
        "#Parameters of the training:\n",
        "#       >> total_examples = int -> Count of sentences;\n",
        "#       >> epochs = int -> Number of iterations (epochs) over the corpus - [10, 20, 30]\n",
        "\n",
        "w2v_model.train(clean_sentences, total_examples=w2v_model.corpus_count, epochs=30, report_delay=1)"
      ],
      "execution_count": null,
      "outputs": []
    },
    {
      "cell_type": "code",
      "metadata": {
        "id": "CqPlaVA8Accp",
        "outputId": "717e19c9-96b7-487b-fd44-deac942ac322",
        "colab": {
          "base_uri": "https://localhost:8080/"
        }
      },
      "source": [
        "#As we do not plan to train the model any further, we are calling init_sims(), \n",
        "#which will make the model much more memory-efficient:\n",
        "#------------NOT SURE IF THIS LINE IS NECESSARY BEFORE SAVING THE MODEL---------\n",
        "w2v_model.init_sims(replace=True)"
      ],
      "execution_count": 8,
      "outputs": [
        {
          "output_type": "stream",
          "text": [
            "INFO - 17:44:05: precomputing L2-norms of word weight vectors\n"
          ],
          "name": "stderr"
        }
      ]
    },
    {
      "cell_type": "markdown",
      "metadata": {
        "id": "WbvKexrhCC7m"
      },
      "source": [
        "###2.4. Save the model (for Jerry and Chris?)"
      ]
    },
    {
      "cell_type": "code",
      "metadata": {
        "id": "LSjLcr9eCP_Q",
        "outputId": "f679540a-6e34-46dd-b7cb-f41c5c42d161",
        "colab": {
          "base_uri": "https://localhost:8080/"
        }
      },
      "source": [
        "w2v_model.wv.save_word2vec_format('model_author_name.bin')"
      ],
      "execution_count": 9,
      "outputs": [
        {
          "output_type": "stream",
          "text": [
            "INFO - 17:44:10: storing 3319x300 projection weights into model_author_name.bin\n"
          ],
          "name": "stderr"
        }
      ]
    },
    {
      "cell_type": "markdown",
      "metadata": {
        "id": "ty6jaH-oAwJF"
      },
      "source": [
        "#$\\color{brown}{\\rm 3.~Get~Embeddings~for~Classification}$"
      ]
    },
    {
      "cell_type": "code",
      "metadata": {
        "id": "ZUDluKnrA6Zk",
        "outputId": "8aaf3b1f-ec98-4912-abd2-b9474c04e84c",
        "colab": {
          "base_uri": "https://localhost:8080/"
        }
      },
      "source": [
        "#EDUARDO AND MAOFENG\n",
        "#Here we call the method that will get all random words from\n",
        "\n",
        "#This is just an example of getting embeddings from one word\n",
        "import numpy as np\n",
        "arrays = np.empty((0, 300), dtype='f')\n",
        "arrays = np.append(arrays, w2v_model.wv.__getitem__(['homer']), axis=0)\n",
        "arrays = np.append(arrays, w2v_model.wv.__getitem__(['marge']), axis=0)\n",
        "\n",
        "print(arrays.shape)\n",
        "\n",
        "#TODO: CONSTRUCT THE WHOLE DATASET TO FEED THE CLASSIFIER(S)"
      ],
      "execution_count": 10,
      "outputs": [
        {
          "output_type": "stream",
          "text": [
            "(2, 300)\n"
          ],
          "name": "stdout"
        }
      ]
    },
    {
      "cell_type": "markdown",
      "metadata": {
        "id": "CQVLzO_XRdtS"
      },
      "source": [
        "#$\\color{brown}{\\rm 4.~Train~the~classifiers}$"
      ]
    },
    {
      "cell_type": "code",
      "metadata": {
        "id": "QlAW9RkBRk5l"
      },
      "source": [
        "#TODO"
      ],
      "execution_count": null,
      "outputs": []
    },
    {
      "cell_type": "markdown",
      "metadata": {
        "id": "EtsolAU6NeK-"
      },
      "source": [
        "#$\\color{brown}{\\rm 5.~t-SNE~visualizations.}$\n",
        "\n",
        "\n",
        "t-SNE is a non-linear dimensionality reduction algorithm that attempts to represent high-dimensional data and the underlying relationships between vectors in a lower-dimensional space."
      ]
    },
    {
      "cell_type": "markdown",
      "metadata": {
        "id": "NnW1b0n9Nzbu"
      },
      "source": [
        "**Our goal in this section is to plot our 300 dimensions vectors into 2 dimensional graphs, and see if we can spot interesting patterns.**"
      ]
    },
    {
      "cell_type": "code",
      "metadata": {
        "id": "uQ1xeQu5Nx4-"
      },
      "source": [
        "import numpy as np\n",
        "import matplotlib.pyplot as plt\n",
        "%matplotlib inline\n",
        " \n",
        "import seaborn as sns\n",
        "sns.set_style(\"darkgrid\")\n",
        "\n",
        "from sklearn.decomposition import PCA\n",
        "from sklearn.manifold import TSNE\n",
        "\n",
        "\n",
        "\n",
        "def get_top_n_similar_words(model, word, top_n):\n",
        "    \"\"\"\n",
        "    This method return the n most frequent words related to a specific word.\n",
        "\n",
        "    Parameters\n",
        "        model:  (Word2Vec) model that was trained over a corpus.\n",
        "        word:   (string) look for similar words to this one.\n",
        "        top_n:  (int) indicates the number of words in ascending order.\n",
        "    -\n",
        "    Returns\n",
        "        close_words: (tuple <string, float>) \n",
        "                     string: word string \n",
        "                     float: similarity index \n",
        "\n",
        "    \"\"\"\n",
        "    close_words = model.wv.most_similar([word], topn=top_n)\n",
        "    return close_words\n",
        "\n",
        "\n",
        "\n",
        "def get_top_n_disimilar_words(model, word, negative_top):\n",
        "    \"\"\"\n",
        "    This method return the n most disimilar words related to a specific word.\n",
        "\n",
        "    -\n",
        "    Parameters\n",
        "        model:  (Word2Vec) model that was trained over a corpus.\n",
        "        word:   (string) look for similar words to this one.\n",
        "        negative_top:  (int) indicates the number of words in descending order.\n",
        "    -\n",
        "    Returns\n",
        "        close_words: (tuple <string, float>) \n",
        "                     string: word string \n",
        "                     float: similarity index \n",
        "\n",
        "    \"\"\"\n",
        "    close_words = model.wv.most_similar(negative=[word], topn=negative_top)\n",
        "    return close_words\n",
        "\n",
        "\n",
        "\n",
        "def tsne_generation(model, word, n_components, similar_words, disimilar_words, embedding_size):\n",
        "    \"\"\" \n",
        "    Get the data from tSNE.\n",
        "\n",
        "    -Parameters\n",
        "        model:  (Word2Vec) model that was trained over a corpus.\n",
        "        word:   (string) word to be analized.\n",
        "        n_components: (int) number of components to apply PCA.\n",
        "        similar_words: (list) list of top similar words precalculated.\n",
        "        disimilar_words: (list) list of top disimilar words precalculated.\n",
        "        embedding_size: (int) embedding size of the words.\n",
        "\n",
        "    -Returns\n",
        "        new_data: (list) list of dim reduced data obtained from PCA and then, tSNE.\n",
        "        word_labels: (list) strings of the words (we need this to plot the results).\n",
        "        color_list: (list) colors of the list just to plotting the results.\n",
        "    \"\"\"\n",
        "\n",
        "    #1. Prepare the variables\n",
        "    #---------------------------------------------------------------------------\n",
        "    word_embeddings = np.empty((0, embedding_size), dtype='f')\n",
        "    word_labels = [word]\n",
        "    color_list  = ['red']\n",
        "    \n",
        "    # adds word embedding to search into the results array\n",
        "    word_embeddings = np.append(word_embeddings, model.wv.__getitem__([word]), axis=0)\n",
        "    #---------------------------------------------------------------------------\n",
        "\n",
        "\n",
        "    #2. Get the closest words embeddings\n",
        "    #---------------------------------------------------------------------------\n",
        "    for wrd_score in similar_words:\n",
        "        wrd_vector = model.wv.__getitem__([wrd_score[0]])\n",
        "        word_labels.append(wrd_score[0])\n",
        "        color_list.append('blue')\n",
        "        word_embeddings = np.append(word_embeddings, wrd_vector, axis = 0)\n",
        "    #---------------------------------------------------------------------------\n",
        "    \n",
        "\n",
        "    #3. Adds the vector for each of the words from list_names to the array of embeddings\n",
        "    #---------------------------------------------------------------------------\n",
        "    for wrd_tuple in disimilar_words:\n",
        "        wrd = wrd_tuple[0]\n",
        "        wrd_vector = model.wv.__getitem__([wrd])\n",
        "        word_labels.append(wrd)\n",
        "        color_list.append('green')\n",
        "        word_embeddings = np.append(word_embeddings, wrd_vector, axis = 0)\n",
        "    #---------------------------------------------------------------------------\n",
        "\n",
        "\n",
        "    # 4. Reduces the dimensionality of the embeddings to the number <<n_components>> dimensions with PCA\n",
        "    #---------------------------------------------------------------------------\n",
        "    reduc = PCA(n_components=n_components).fit_transform(word_embeddings)\n",
        "    #---------------------------------------------------------------------------\n",
        "\n",
        "\n",
        "    # 5. Finds t-SNE coordinates for 2 dimensions\n",
        "    #---------------------------------------------------------------------------\n",
        "    np.set_printoptions(suppress=True)\n",
        "    new_data = TSNE(n_components=2, random_state=0, perplexity=15).fit_transform(reduc)\n",
        "    #---------------------------------------------------------------------------\n",
        "\n",
        "    return new_data, word_labels, color_list\n",
        "    \n",
        "\n",
        "\n",
        "def plot_tsne(data, main_word, word_labels, color_list):\n",
        "    \"\"\"\n",
        "    Plot the results from the tSNE method.\n",
        "\n",
        "    -\n",
        "    Parameters:\n",
        "        data: (list) tSNE data.\n",
        "        main_word: word from which we want to plot.\n",
        "        word_labels: (list) strings of the words (we need this to plot the results).\n",
        "        color_list: (list) colors of the list just to plotting the results.\n",
        "\n",
        "    -\n",
        "    Returns:\n",
        "        None.\n",
        "    \"\"\"\n",
        "\n",
        "    # Sets everything up to plot\n",
        "    df = pd.DataFrame({'x': [x for x in data[:, 0]],\n",
        "                       'y': [y for y in data[:, 1]],\n",
        "                       'words': word_labels,\n",
        "                       'color': color_list})\n",
        "    \n",
        "    fig, _ = plt.subplots()\n",
        "    fig.set_size_inches(9, 9)\n",
        "    \n",
        "    # Basic plot\n",
        "    p1 = sns.regplot(data=df,\n",
        "                     x=\"x\",\n",
        "                     y=\"y\",\n",
        "                     fit_reg=False,\n",
        "                     marker=\"o\",\n",
        "                     scatter_kws={'s': 40,\n",
        "                                  'facecolors': df['color']\n",
        "                                 }\n",
        "                    )\n",
        "    \n",
        "    # Adds annotations one by one with a loop\n",
        "    for line in range(0, df.shape[0]):\n",
        "         p1.text(df[\"x\"][line],\n",
        "                 df['y'][line],\n",
        "                 '  ' + df[\"words\"][line].title(),\n",
        "                 horizontalalignment='left',\n",
        "                 verticalalignment='bottom', size='medium',\n",
        "                 color=df['color'][line],\n",
        "                 weight='normal'\n",
        "                ).set_size(15)\n",
        "\n",
        "    plt.xlim(data[:, 0].min()-50, data[:, 0].max()+50)\n",
        "    plt.ylim(data[:, 1].min()-50, data[:, 1].max()+50)\n",
        "    plt.title('t-SNE visualization for {}'.format(main_word.title()))#'''"
      ],
      "execution_count": 46,
      "outputs": []
    },
    {
      "cell_type": "markdown",
      "metadata": {
        "id": "xKjFsCVYPGN8"
      },
      "source": [
        "###EXAMPLE: Visualization - Maggie\n",
        "\n",
        "**10 Most similar words vs. 10 Most dissimilar**\n",
        "\n",
        "Let's compare where the vector representation of Maggie (The Simpsons baby) and her 10 most similar words from the model lies compare to the vector representation of the 10 most dissimilar words to Maggie."
      ]
    },
    {
      "cell_type": "code",
      "metadata": {
        "id": "X6BPW4hFPVDh",
        "outputId": "ad38ca67-dbd7-43f0-e3d2-9e73efd9b52d",
        "colab": {
          "base_uri": "https://localhost:8080/",
          "height": 621
        }
      },
      "source": [
        "#-----------------------Parameters------------------------\n",
        "word_ = 'maggie'\n",
        "top_ = 10\n",
        "embedding_size_ = 300\n",
        "n_components_ = 20\n",
        "\n",
        "#--------------Get similar and disimilar words------------\n",
        "similar_words_ = get_top_n_similar_words(w2v_model, 'maggie', top_)\n",
        "disimilar_words_ = get_top_n_disimilar_words(w2v_model, word_, top_)\n",
        "\n",
        "#---------------------------Get data from tSNE------------------------------\n",
        "data, labels, colors = tsne_generation(w2v_model, word_, n_components_, similar_words_, disimilar_words_, embedding_size_)\n",
        "plot_tsne(data, word_, labels, colors)"
      ],
      "execution_count": 47,
      "outputs": [
        {
          "output_type": "stream",
          "text": [
            "/usr/local/lib/python3.6/dist-packages/gensim/matutils.py:737: FutureWarning: Conversion of the second argument of issubdtype from `int` to `np.signedinteger` is deprecated. In future, it will be treated as `np.int64 == np.dtype(int).type`.\n",
            "  if np.issubdtype(vec.dtype, np.int):\n"
          ],
          "name": "stderr"
        },
        {
          "output_type": "display_data",
          "data": {
            "image/png": "[encoded data removed]",
            "text/plain": [
              "<Figure size 648x648 with 1 Axes>"
            ]
          },
          "metadata": {
            "tags": []
          }
        }
      ]
    }
  ]
}